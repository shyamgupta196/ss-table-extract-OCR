{
  "cells": [
    {
      "cell_type": "markdown",
      "metadata": {
        "id": "1fYeYVp2klFt"
      },
      "source": [
        "# Multi-Type-TD-TSR Demo Notebook\n",
        "## 1. Install all the prerequisite\n"
      ]
    },
    {
      "cell_type": "code",
      "execution_count": 1,
      "metadata": {
        "colab": {
          "base_uri": "https://localhost:8080/"
        },
        "id": "s9dI-UTk2JEG",
        "outputId": "126885ab-117d-4c31-ee4b-bca84ee0e461"
      },
      "outputs": [
        {
          "name": "stdout",
          "output_type": "stream",
          "text": [
            "Collecting pyyaml==5.1\n",
            "\u001b[?25l  Downloading https://files.pythonhosted.org/packages/9f/2c/9417b5c774792634834e730932745bc09a7d36754ca00acf1ccd1ac2594d/PyYAML-5.1.tar.gz (274kB)\n",
            "\r\u001b[K     |█▏                              | 10kB 18.8MB/s eta 0:00:01\r\u001b[K     |██▍                             | 20kB 25.4MB/s eta 0:00:01\r\u001b[K     |███▋                            | 30kB 31.0MB/s eta 0:00:01\r\u001b[K     |████▉                           | 40kB 28.1MB/s eta 0:00:01\r\u001b[K     |██████                          | 51kB 29.8MB/s eta 0:00:01\r\u001b[K     |███████▏                        | 61kB 27.4MB/s eta 0:00:01\r\u001b[K     |████████▍                       | 71kB 24.1MB/s eta 0:00:01\r\u001b[K     |█████████▋                      | 81kB 25.3MB/s eta 0:00:01\r\u001b[K     |██████████▊                     | 92kB 24.3MB/s eta 0:00:01\r\u001b[K     |████████████                    | 102kB 25.1MB/s eta 0:00:01\r\u001b[K     |█████████████▏                  | 112kB 25.1MB/s eta 0:00:01\r\u001b[K     |██████████████▍                 | 122kB 25.1MB/s eta 0:00:01\r\u001b[K     |███████████████▌                | 133kB 25.1MB/s eta 0:00:01\r\u001b[K     |████████████████▊               | 143kB 25.1MB/s eta 0:00:01\r\u001b[K     |██████████████████              | 153kB 25.1MB/s eta 0:00:01\r\u001b[K     |███████████████████▏            | 163kB 25.1MB/s eta 0:00:01\r\u001b[K     |████████████████████▎           | 174kB 25.1MB/s eta 0:00:01\r\u001b[K     |█████████████████████▌          | 184kB 25.1MB/s eta 0:00:01\r\u001b[K     |██████████████████████▊         | 194kB 25.1MB/s eta 0:00:01\r\u001b[K     |████████████████████████        | 204kB 25.1MB/s eta 0:00:01\r\u001b[K     |█████████████████████████       | 215kB 25.1MB/s eta 0:00:01\r\u001b[K     |██████████████████████████▎     | 225kB 25.1MB/s eta 0:00:01\r\u001b[K     |███████████████████████████▌    | 235kB 25.1MB/s eta 0:00:01\r\u001b[K     |████████████████████████████▊   | 245kB 25.1MB/s eta 0:00:01\r\u001b[K     |█████████████████████████████▉  | 256kB 25.1MB/s eta 0:00:01\r\u001b[K     |███████████████████████████████ | 266kB 25.1MB/s eta 0:00:01\r\u001b[K     |████████████████████████████████| 276kB 25.1MB/s \n",
            "\u001b[?25hBuilding wheels for collected packages: pyyaml\n",
            "  Building wheel for pyyaml (setup.py) ... \u001b[?25l\u001b[?25hdone\n",
            "  Created wheel for pyyaml: filename=PyYAML-5.1-cp37-cp37m-linux_x86_64.whl size=44074 sha256=f38d4364565e94d0f6456b9c07438f18c16b1038c2085013c0bd25f476925a65\n",
            "  Stored in directory: /root/.cache/pip/wheels/ad/56/bc/1522f864feb2a358ea6f1a92b4798d69ac783a28e80567a18b\n",
            "Successfully built pyyaml\n",
            "Installing collected packages: pyyaml\n",
            "  Found existing installation: PyYAML 3.13\n",
            "    Uninstalling PyYAML-3.13:\n",
            "      Successfully uninstalled PyYAML-3.13\n",
            "Successfully installed pyyaml-5.1\n",
            "Collecting torch==1.7\n",
            "\u001b[?25l  Downloading https://files.pythonhosted.org/packages/d9/74/d52c014fbfb50aefc084d2bf5ffaa0a8456f69c586782b59f93ef45e2da9/torch-1.7.0-cp37-cp37m-manylinux1_x86_64.whl (776.7MB)\n",
            "\u001b[K     |████████████████████████████████| 776.8MB 24kB/s \n",
            "\u001b[?25hRequirement already satisfied: future in /usr/local/lib/python3.7/dist-packages (from torch==1.7) (0.16.0)\n",
            "Collecting dataclasses\n",
            "  Downloading https://files.pythonhosted.org/packages/26/2f/1095cdc2868052dd1e64520f7c0d5c8c550ad297e944e641dbf1ffbb9a5d/dataclasses-0.6-py3-none-any.whl\n",
            "Requirement already satisfied: typing-extensions in /usr/local/lib/python3.7/dist-packages (from torch==1.7) (3.7.4.3)\n",
            "Requirement already satisfied: numpy in /usr/local/lib/python3.7/dist-packages (from torch==1.7) (1.19.5)\n",
            "\u001b[31mERROR: torchvision 0.9.1+cu101 has requirement torch==1.8.1, but you'll have torch 1.7.0 which is incompatible.\u001b[0m\n",
            "\u001b[31mERROR: torchtext 0.9.1 has requirement torch==1.8.1, but you'll have torch 1.7.0 which is incompatible.\u001b[0m\n",
            "Installing collected packages: dataclasses, torch\n",
            "  Found existing installation: torch 1.8.1+cu101\n",
            "    Uninstalling torch-1.8.1+cu101:\n",
            "      Successfully uninstalled torch-1.8.1+cu101\n",
            "Successfully installed dataclasses-0.6 torch-1.7.0\n",
            "Collecting torchvision==0.8.1\n",
            "\u001b[?25l  Downloading https://files.pythonhosted.org/packages/a3/39/a9caac0deb027feec2cdd7cc40b2a598256d3f50050c80f349c030f915f2/torchvision-0.8.1-cp37-cp37m-manylinux1_x86_64.whl (12.7MB)\n",
            "\u001b[K     |████████████████████████████████| 12.7MB 10.5MB/s \n",
            "\u001b[?25hRequirement already satisfied: numpy in /usr/local/lib/python3.7/dist-packages (from torchvision==0.8.1) (1.19.5)\n",
            "Requirement already satisfied: torch==1.7.0 in /usr/local/lib/python3.7/dist-packages (from torchvision==0.8.1) (1.7.0)\n",
            "Requirement already satisfied: pillow>=4.1.1 in /usr/local/lib/python3.7/dist-packages (from torchvision==0.8.1) (7.1.2)\n",
            "Requirement already satisfied: future in /usr/local/lib/python3.7/dist-packages (from torch==1.7.0->torchvision==0.8.1) (0.16.0)\n",
            "Requirement already satisfied: typing-extensions in /usr/local/lib/python3.7/dist-packages (from torch==1.7.0->torchvision==0.8.1) (3.7.4.3)\n",
            "Requirement already satisfied: dataclasses in /usr/local/lib/python3.7/dist-packages (from torch==1.7.0->torchvision==0.8.1) (0.6)\n",
            "Installing collected packages: torchvision\n",
            "  Found existing installation: torchvision 0.9.1+cu101\n",
            "    Uninstalling torchvision-0.9.1+cu101:\n",
            "      Successfully uninstalled torchvision-0.9.1+cu101\n",
            "Successfully installed torchvision-0.8.1\n",
            "1.7.0 True\n",
            "gcc (Ubuntu 7.5.0-3ubuntu1~18.04) 7.5.0\n",
            "Copyright (C) 2017 Free Software Foundation, Inc.\n",
            "This is free software; see the source for copying conditions.  There is NO\n",
            "warranty; not even for MERCHANTABILITY or FITNESS FOR A PARTICULAR PURPOSE.\n",
            "\n",
            "Reading package lists... Done\n",
            "Building dependency tree       \n",
            "Reading state information... Done\n",
            "The following package was automatically installed and is no longer required:\n",
            "  libnvidia-common-460\n",
            "Use 'sudo apt autoremove' to remove it.\n",
            "The following additional packages will be installed:\n",
            "  tesseract-ocr-eng tesseract-ocr-osd\n",
            "The following NEW packages will be installed:\n",
            "  tesseract-ocr tesseract-ocr-eng tesseract-ocr-osd\n",
            "0 upgraded, 3 newly installed, 0 to remove and 34 not upgraded.\n",
            "Need to get 4,795 kB of archives.\n",
            "After this operation, 15.8 MB of additional disk space will be used.\n",
            "Get:1 http://archive.ubuntu.com/ubuntu bionic/universe amd64 tesseract-ocr-eng all 4.00~git24-0e00fe6-1.2 [1,588 kB]\n",
            "Get:2 http://archive.ubuntu.com/ubuntu bionic/universe amd64 tesseract-ocr-osd all 4.00~git24-0e00fe6-1.2 [2,989 kB]\n",
            "Get:3 http://archive.ubuntu.com/ubuntu bionic/universe amd64 tesseract-ocr amd64 4.00~git2288-10f4998a-2 [218 kB]\n",
            "Fetched 4,795 kB in 1s (5,496 kB/s)\n",
            "debconf: unable to initialize frontend: Dialog\n",
            "debconf: (No usable dialog-like program is installed, so the dialog based frontend cannot be used. at /usr/share/perl5/Debconf/FrontEnd/Dialog.pm line 76, <> line 3.)\n",
            "debconf: falling back to frontend: Readline\n",
            "debconf: unable to initialize frontend: Readline\n",
            "debconf: (This frontend requires a controlling tty.)\n",
            "debconf: falling back to frontend: Teletype\n",
            "dpkg-preconfigure: unable to re-open stdin: \n",
            "Selecting previously unselected package tesseract-ocr-eng.\n",
            "(Reading database ... 160706 files and directories currently installed.)\n",
            "Preparing to unpack .../tesseract-ocr-eng_4.00~git24-0e00fe6-1.2_all.deb ...\n",
            "Unpacking tesseract-ocr-eng (4.00~git24-0e00fe6-1.2) ...\n",
            "Selecting previously unselected package tesseract-ocr-osd.\n",
            "Preparing to unpack .../tesseract-ocr-osd_4.00~git24-0e00fe6-1.2_all.deb ...\n",
            "Unpacking tesseract-ocr-osd (4.00~git24-0e00fe6-1.2) ...\n",
            "Selecting previously unselected package tesseract-ocr.\n",
            "Preparing to unpack .../tesseract-ocr_4.00~git2288-10f4998a-2_amd64.deb ...\n",
            "Unpacking tesseract-ocr (4.00~git2288-10f4998a-2) ...\n",
            "Setting up tesseract-ocr-osd (4.00~git24-0e00fe6-1.2) ...\n",
            "Setting up tesseract-ocr-eng (4.00~git24-0e00fe6-1.2) ...\n",
            "Setting up tesseract-ocr (4.00~git2288-10f4998a-2) ...\n",
            "Processing triggers for man-db (2.8.3-2ubuntu0.1) ...\n",
            "Collecting pytesseract\n",
            "  Downloading https://files.pythonhosted.org/packages/a0/e6/a4e9fc8a93c1318540e8de6d8d4beb5749b7960388a7c7f27799fc2dd016/pytesseract-0.3.7.tar.gz\n",
            "Requirement already satisfied: Pillow in /usr/local/lib/python3.7/dist-packages (from pytesseract) (7.1.2)\n",
            "Building wheels for collected packages: pytesseract\n",
            "  Building wheel for pytesseract (setup.py) ... \u001b[?25l\u001b[?25hdone\n",
            "  Created wheel for pytesseract: filename=pytesseract-0.3.7-py2.py3-none-any.whl size=13945 sha256=a3b3abe2c387e47a7e4a32e6ed5ba2383cb6681271f4c9a1737a97dbc0c1b70a\n",
            "  Stored in directory: /root/.cache/pip/wheels/81/20/7e/1dd0daad1575d5260916bb1e9781246430647adaef4b3ca3b3\n",
            "Successfully built pytesseract\n",
            "Installing collected packages: pytesseract\n",
            "Successfully installed pytesseract-0.3.7\n",
            "Looking in links: https://dl.fbaipublicfiles.com/detectron2/wheels/cu101/torch1.7/index.html\n",
            "Collecting detectron2\n",
            "\u001b[?25l  Downloading https://dl.fbaipublicfiles.com/detectron2/wheels/cu101/torch1.7/detectron2-0.4%2Bcu101-cp37-cp37m-linux_x86_64.whl (6.0MB)\n",
            "\u001b[K     |████████████████████████████████| 6.0MB 585kB/s \n",
            "\u001b[?25hCollecting omegaconf>=2\n",
            "  Downloading https://files.pythonhosted.org/packages/d0/eb/9d63ce09dd8aa85767c65668d5414958ea29648a0eec80a4a7d311ec2684/omegaconf-2.0.6-py3-none-any.whl\n",
            "Requirement already satisfied: termcolor>=1.1 in /usr/local/lib/python3.7/dist-packages (from detectron2) (1.1.0)\n",
            "Requirement already satisfied: tabulate in /usr/local/lib/python3.7/dist-packages (from detectron2) (0.8.9)\n",
            "Collecting fvcore<0.1.4,>=0.1.3\n",
            "\u001b[?25l  Downloading https://files.pythonhosted.org/packages/6b/68/2bacb80e13c4084dfc37fec8f17706a1de4c248157561ff33e463399c4f5/fvcore-0.1.3.post20210317.tar.gz (47kB)\n",
            "\u001b[K     |████████████████████████████████| 51kB 7.2MB/s \n",
            "\u001b[?25hRequirement already satisfied: matplotlib in /usr/local/lib/python3.7/dist-packages (from detectron2) (3.2.2)\n",
            "Requirement already satisfied: tqdm>4.29.0 in /usr/local/lib/python3.7/dist-packages (from detectron2) (4.41.1)\n",
            "Requirement already satisfied: tensorboard in /usr/local/lib/python3.7/dist-packages (from detectron2) (2.5.0)\n",
            "Requirement already satisfied: future in /usr/local/lib/python3.7/dist-packages (from detectron2) (0.16.0)\n",
            "Requirement already satisfied: Pillow>=7.1 in /usr/local/lib/python3.7/dist-packages (from detectron2) (7.1.2)\n",
            "Requirement already satisfied: cloudpickle in /usr/local/lib/python3.7/dist-packages (from detectron2) (1.3.0)\n",
            "Collecting iopath>=0.1.2\n",
            "  Downloading https://files.pythonhosted.org/packages/21/d0/22104caed16fa41382702fed959f4a9b088b2f905e7a82e4483180a2ec2a/iopath-0.1.8-py3-none-any.whl\n",
            "Requirement already satisfied: pydot in /usr/local/lib/python3.7/dist-packages (from detectron2) (1.3.0)\n",
            "Requirement already satisfied: pycocotools>=2.0.2 in /usr/local/lib/python3.7/dist-packages (from detectron2) (2.0.2)\n",
            "Collecting yacs>=0.1.6\n",
            "  Downloading https://files.pythonhosted.org/packages/38/4f/fe9a4d472aa867878ce3bb7efb16654c5d63672b86dc0e6e953a67018433/yacs-0.1.8-py3-none-any.whl\n",
            "Requirement already satisfied: typing-extensions in /usr/local/lib/python3.7/dist-packages (from omegaconf>=2->detectron2) (3.7.4.3)\n",
            "Requirement already satisfied: PyYAML>=5.1.* in /usr/local/lib/python3.7/dist-packages (from omegaconf>=2->detectron2) (5.1)\n",
            "Requirement already satisfied: numpy in /usr/local/lib/python3.7/dist-packages (from fvcore<0.1.4,>=0.1.3->detectron2) (1.19.5)\n",
            "Requirement already satisfied: pyparsing!=2.0.4,!=2.1.2,!=2.1.6,>=2.0.1 in /usr/local/lib/python3.7/dist-packages (from matplotlib->detectron2) (2.4.7)\n",
            "Requirement already satisfied: cycler>=0.10 in /usr/local/lib/python3.7/dist-packages (from matplotlib->detectron2) (0.10.0)\n",
            "Requirement already satisfied: kiwisolver>=1.0.1 in /usr/local/lib/python3.7/dist-packages (from matplotlib->detectron2) (1.3.1)\n",
            "Requirement already satisfied: python-dateutil>=2.1 in /usr/local/lib/python3.7/dist-packages (from matplotlib->detectron2) (2.8.1)\n",
            "Requirement already satisfied: markdown>=2.6.8 in /usr/local/lib/python3.7/dist-packages (from tensorboard->detectron2) (3.3.4)\n",
            "Requirement already satisfied: wheel>=0.26; python_version >= \"3\" in /usr/local/lib/python3.7/dist-packages (from tensorboard->detectron2) (0.36.2)\n",
            "Requirement already satisfied: tensorboard-data-server<0.7.0,>=0.6.0 in /usr/local/lib/python3.7/dist-packages (from tensorboard->detectron2) (0.6.1)\n",
            "Requirement already satisfied: google-auth<2,>=1.6.3 in /usr/local/lib/python3.7/dist-packages (from tensorboard->detectron2) (1.30.0)\n",
            "Requirement already satisfied: google-auth-oauthlib<0.5,>=0.4.1 in /usr/local/lib/python3.7/dist-packages (from tensorboard->detectron2) (0.4.4)\n",
            "Requirement already satisfied: werkzeug>=0.11.15 in /usr/local/lib/python3.7/dist-packages (from tensorboard->detectron2) (1.0.1)\n",
            "Requirement already satisfied: requests<3,>=2.21.0 in /usr/local/lib/python3.7/dist-packages (from tensorboard->detectron2) (2.23.0)\n",
            "Requirement already satisfied: absl-py>=0.4 in /usr/local/lib/python3.7/dist-packages (from tensorboard->detectron2) (0.12.0)\n",
            "Requirement already satisfied: grpcio>=1.24.3 in /usr/local/lib/python3.7/dist-packages (from tensorboard->detectron2) (1.34.1)\n",
            "Requirement already satisfied: setuptools>=41.0.0 in /usr/local/lib/python3.7/dist-packages (from tensorboard->detectron2) (56.1.0)\n",
            "Requirement already satisfied: tensorboard-plugin-wit>=1.6.0 in /usr/local/lib/python3.7/dist-packages (from tensorboard->detectron2) (1.8.0)\n",
            "Requirement already satisfied: protobuf>=3.6.0 in /usr/local/lib/python3.7/dist-packages (from tensorboard->detectron2) (3.12.4)\n",
            "Collecting portalocker\n",
            "  Downloading https://files.pythonhosted.org/packages/68/33/cb524f4de298509927b90aa5ee34767b9a2b93e663cf354b2a3efa2b4acd/portalocker-2.3.0-py2.py3-none-any.whl\n",
            "Requirement already satisfied: cython>=0.27.3 in /usr/local/lib/python3.7/dist-packages (from pycocotools>=2.0.2->detectron2) (0.29.23)\n",
            "Requirement already satisfied: six in /usr/local/lib/python3.7/dist-packages (from cycler>=0.10->matplotlib->detectron2) (1.15.0)\n",
            "Requirement already satisfied: importlib-metadata; python_version < \"3.8\" in /usr/local/lib/python3.7/dist-packages (from markdown>=2.6.8->tensorboard->detectron2) (4.0.1)\n",
            "Requirement already satisfied: rsa<5,>=3.1.4; python_version >= \"3.6\" in /usr/local/lib/python3.7/dist-packages (from google-auth<2,>=1.6.3->tensorboard->detectron2) (4.7.2)\n",
            "Requirement already satisfied: cachetools<5.0,>=2.0.0 in /usr/local/lib/python3.7/dist-packages (from google-auth<2,>=1.6.3->tensorboard->detectron2) (4.2.2)\n",
            "Requirement already satisfied: pyasn1-modules>=0.2.1 in /usr/local/lib/python3.7/dist-packages (from google-auth<2,>=1.6.3->tensorboard->detectron2) (0.2.8)\n",
            "Requirement already satisfied: requests-oauthlib>=0.7.0 in /usr/local/lib/python3.7/dist-packages (from google-auth-oauthlib<0.5,>=0.4.1->tensorboard->detectron2) (1.3.0)\n",
            "Requirement already satisfied: chardet<4,>=3.0.2 in /usr/local/lib/python3.7/dist-packages (from requests<3,>=2.21.0->tensorboard->detectron2) (3.0.4)\n",
            "Requirement already satisfied: certifi>=2017.4.17 in /usr/local/lib/python3.7/dist-packages (from requests<3,>=2.21.0->tensorboard->detectron2) (2020.12.5)\n",
            "Requirement already satisfied: idna<3,>=2.5 in /usr/local/lib/python3.7/dist-packages (from requests<3,>=2.21.0->tensorboard->detectron2) (2.10)\n",
            "Requirement already satisfied: urllib3!=1.25.0,!=1.25.1,<1.26,>=1.21.1 in /usr/local/lib/python3.7/dist-packages (from requests<3,>=2.21.0->tensorboard->detectron2) (1.24.3)\n",
            "Requirement already satisfied: zipp>=0.5 in /usr/local/lib/python3.7/dist-packages (from importlib-metadata; python_version < \"3.8\"->markdown>=2.6.8->tensorboard->detectron2) (3.4.1)\n",
            "Requirement already satisfied: pyasn1>=0.1.3 in /usr/local/lib/python3.7/dist-packages (from rsa<5,>=3.1.4; python_version >= \"3.6\"->google-auth<2,>=1.6.3->tensorboard->detectron2) (0.4.8)\n",
            "Requirement already satisfied: oauthlib>=3.0.0 in /usr/local/lib/python3.7/dist-packages (from requests-oauthlib>=0.7.0->google-auth-oauthlib<0.5,>=0.4.1->tensorboard->detectron2) (3.1.0)\n",
            "Building wheels for collected packages: fvcore\n",
            "  Building wheel for fvcore (setup.py) ... \u001b[?25l\u001b[?25hdone\n",
            "  Created wheel for fvcore: filename=fvcore-0.1.3.post20210317-cp37-none-any.whl size=58543 sha256=17e6ec352c665aaec2672e84e427c5bcd7b357aed7e0891d85158e970289b14c\n",
            "  Stored in directory: /root/.cache/pip/wheels/d2/ee/3a/5c531df777c03d8c67f22c65f97d6f75321087482d05a9b218\n",
            "Successfully built fvcore\n",
            "Installing collected packages: omegaconf, yacs, portalocker, iopath, fvcore, detectron2\n",
            "Successfully installed detectron2-0.4+cu101 fvcore-0.1.3.post20210317 iopath-0.1.8 omegaconf-2.0.6 portalocker-2.3.0 yacs-0.1.8\n"
          ]
        }
      ],
      "source": [
        "# install dependencies: \n",
        "!pip install pyyaml==5.1\n",
        "!pip install torch==1.7\n",
        "!pip install torchvision==0.8.1\n",
        "import torch, torchvision\n",
        "print(torch.__version__, torch.cuda.is_available())\n",
        "!gcc --version\n",
        "# opencv is pre-installed on colab\n",
        "\n",
        "# install detectron2: (Colab has CUDA 10.1 + torch 1.7)\n",
        "# See https://detectron2.readthedocs.io/tutorials/install.html for instructions\n",
        "\n",
        "!sudo apt install tesseract-ocr \n",
        "!pip install pytesseract\n",
        "\n",
        "import torch, torchvision\n",
        "torch.__version__\n",
        "assert torch.__version__.startswith(\"1.7\")\n",
        "!pip install detectron2 -f https://dl.fbaipublicfiles.com/detectron2/wheels/cu101/torch1.7/index.html\n",
        "# exit(0)  # After installation, you need to \"restart runtime\" in Colab. This line can also restart runtime"
      ]
    },
    {
      "cell_type": "markdown",
      "metadata": {
        "id": "pQUnnsinlQVT"
      },
      "source": [
        "## 2. Clone the Repository "
      ]
    },
    {
      "cell_type": "code",
      "execution_count": 35,
      "metadata": {},
      "outputs": [
        {
          "name": "stdout",
          "output_type": "stream",
          "text": [
            "Collecting easyocr\n",
            "  Obtaining dependency information for easyocr from https://files.pythonhosted.org/packages/cb/0e/09bafec31db720e796d3f5b0814c37c5fdb59dcd35a2c6c6b1c774b09646/easyocr-1.7.1-py3-none-any.whl.metadata\n",
            "  Using cached easyocr-1.7.1-py3-none-any.whl.metadata (11 kB)\n",
            "Requirement already satisfied: torch in c:\\users\\shyam\\onedrive\\documents\\deeplearning\\deep_learn\\mindful_ss_extraction\\ssenv\\lib\\site-packages (from easyocr) (2.0.1)\n",
            "Requirement already satisfied: torchvision>=0.5 in c:\\users\\shyam\\onedrive\\documents\\deeplearning\\deep_learn\\mindful_ss_extraction\\ssenv\\lib\\site-packages (from easyocr) (0.15.2)\n",
            "Collecting opencv-python-headless (from easyocr)\n",
            "  Obtaining dependency information for opencv-python-headless from https://files.pythonhosted.org/packages/70/78/7a13730745684584db53e8aa3c3bd84beef2dcb32bebf627bda0d6df461e/opencv_python_headless-4.8.0.76-cp37-abi3-win_amd64.whl.metadata\n",
            "  Using cached opencv_python_headless-4.8.0.76-cp37-abi3-win_amd64.whl.metadata (20 kB)\n",
            "Requirement already satisfied: scipy in c:\\users\\shyam\\onedrive\\documents\\deeplearning\\deep_learn\\mindful_ss_extraction\\ssenv\\lib\\site-packages (from easyocr) (1.10.1)\n",
            "Requirement already satisfied: numpy in c:\\users\\shyam\\onedrive\\documents\\deeplearning\\deep_learn\\mindful_ss_extraction\\ssenv\\lib\\site-packages (from easyocr) (1.24.4)\n",
            "Requirement already satisfied: Pillow in c:\\users\\shyam\\onedrive\\documents\\deeplearning\\deep_learn\\mindful_ss_extraction\\ssenv\\lib\\site-packages (from easyocr) (10.0.0)\n",
            "Collecting scikit-image (from easyocr)\n",
            "  Obtaining dependency information for scikit-image from https://files.pythonhosted.org/packages/d7/d1/a4c715ad640c9eb0daaa77c4ce561b06e086bec44cbc79083e3548b00b76/scikit_image-0.21.0-cp38-cp38-win_amd64.whl.metadata\n",
            "  Using cached scikit_image-0.21.0-cp38-cp38-win_amd64.whl.metadata (14 kB)\n",
            "Requirement already satisfied: python-bidi in c:\\users\\shyam\\onedrive\\documents\\deeplearning\\deep_learn\\mindful_ss_extraction\\ssenv\\lib\\site-packages (from easyocr) (0.4.2)\n",
            "Requirement already satisfied: PyYAML in c:\\users\\shyam\\onedrive\\documents\\deeplearning\\deep_learn\\mindful_ss_extraction\\ssenv\\lib\\site-packages (from easyocr) (6.0.1)\n",
            "Requirement already satisfied: Shapely in c:\\users\\shyam\\onedrive\\documents\\deeplearning\\deep_learn\\mindful_ss_extraction\\ssenv\\lib\\site-packages (from easyocr) (2.0.1)\n",
            "Requirement already satisfied: pyclipper in c:\\users\\shyam\\onedrive\\documents\\deeplearning\\deep_learn\\mindful_ss_extraction\\ssenv\\lib\\site-packages (from easyocr) (1.3.0.post5)\n",
            "Requirement already satisfied: ninja in c:\\users\\shyam\\onedrive\\documents\\deeplearning\\deep_learn\\mindful_ss_extraction\\ssenv\\lib\\site-packages (from easyocr) (1.11.1)\n",
            "Requirement already satisfied: requests in c:\\users\\shyam\\onedrive\\documents\\deeplearning\\deep_learn\\mindful_ss_extraction\\ssenv\\lib\\site-packages (from torchvision>=0.5->easyocr) (2.31.0)\n",
            "Requirement already satisfied: filelock in c:\\users\\shyam\\onedrive\\documents\\deeplearning\\deep_learn\\mindful_ss_extraction\\ssenv\\lib\\site-packages (from torch->easyocr) (3.12.3)\n",
            "Requirement already satisfied: typing-extensions in c:\\users\\shyam\\onedrive\\documents\\deeplearning\\deep_learn\\mindful_ss_extraction\\ssenv\\lib\\site-packages (from torch->easyocr) (4.7.1)\n",
            "Requirement already satisfied: sympy in c:\\users\\shyam\\onedrive\\documents\\deeplearning\\deep_learn\\mindful_ss_extraction\\ssenv\\lib\\site-packages (from torch->easyocr) (1.12)\n",
            "Requirement already satisfied: networkx in c:\\users\\shyam\\onedrive\\documents\\deeplearning\\deep_learn\\mindful_ss_extraction\\ssenv\\lib\\site-packages (from torch->easyocr) (3.1)\n",
            "Requirement already satisfied: jinja2 in c:\\users\\shyam\\onedrive\\documents\\deeplearning\\deep_learn\\mindful_ss_extraction\\ssenv\\lib\\site-packages (from torch->easyocr) (3.1.2)\n",
            "Requirement already satisfied: six in c:\\users\\shyam\\onedrive\\documents\\deeplearning\\deep_learn\\mindful_ss_extraction\\ssenv\\lib\\site-packages (from python-bidi->easyocr) (1.16.0)\n",
            "Collecting imageio>=2.27 (from scikit-image->easyocr)\n",
            "  Obtaining dependency information for imageio>=2.27 from https://files.pythonhosted.org/packages/eb/21/662994d78d8623055f8ffa91838e28f04b2a34bd5d8d6dbc6c7573285ed6/imageio-2.31.3-py3-none-any.whl.metadata\n",
            "  Using cached imageio-2.31.3-py3-none-any.whl.metadata (4.6 kB)\n",
            "Requirement already satisfied: tifffile>=2022.8.12 in c:\\users\\shyam\\onedrive\\documents\\deeplearning\\deep_learn\\mindful_ss_extraction\\ssenv\\lib\\site-packages (from scikit-image->easyocr) (2023.7.10)\n",
            "Requirement already satisfied: PyWavelets>=1.1.1 in c:\\users\\shyam\\onedrive\\documents\\deeplearning\\deep_learn\\mindful_ss_extraction\\ssenv\\lib\\site-packages (from scikit-image->easyocr) (1.4.1)\n",
            "Requirement already satisfied: packaging>=21 in c:\\users\\shyam\\onedrive\\documents\\deeplearning\\deep_learn\\mindful_ss_extraction\\ssenv\\lib\\site-packages (from scikit-image->easyocr) (23.1)\n",
            "Collecting lazy_loader>=0.2 (from scikit-image->easyocr)\n",
            "  Obtaining dependency information for lazy_loader>=0.2 from https://files.pythonhosted.org/packages/a1/c3/65b3814e155836acacf720e5be3b5757130346670ac454fee29d3eda1381/lazy_loader-0.3-py3-none-any.whl.metadata\n",
            "  Using cached lazy_loader-0.3-py3-none-any.whl.metadata (4.3 kB)\n",
            "Requirement already satisfied: MarkupSafe>=2.0 in c:\\users\\shyam\\onedrive\\documents\\deeplearning\\deep_learn\\mindful_ss_extraction\\ssenv\\lib\\site-packages (from jinja2->torch->easyocr) (2.1.3)\n",
            "Requirement already satisfied: charset-normalizer<4,>=2 in c:\\users\\shyam\\onedrive\\documents\\deeplearning\\deep_learn\\mindful_ss_extraction\\ssenv\\lib\\site-packages (from requests->torchvision>=0.5->easyocr) (3.2.0)\n",
            "Requirement already satisfied: idna<4,>=2.5 in c:\\users\\shyam\\onedrive\\documents\\deeplearning\\deep_learn\\mindful_ss_extraction\\ssenv\\lib\\site-packages (from requests->torchvision>=0.5->easyocr) (3.4)\n",
            "Requirement already satisfied: urllib3<3,>=1.21.1 in c:\\users\\shyam\\onedrive\\documents\\deeplearning\\deep_learn\\mindful_ss_extraction\\ssenv\\lib\\site-packages (from requests->torchvision>=0.5->easyocr) (1.26.16)\n",
            "Requirement already satisfied: certifi>=2017.4.17 in c:\\users\\shyam\\onedrive\\documents\\deeplearning\\deep_learn\\mindful_ss_extraction\\ssenv\\lib\\site-packages (from requests->torchvision>=0.5->easyocr) (2023.7.22)\n",
            "Requirement already satisfied: mpmath>=0.19 in c:\\users\\shyam\\onedrive\\documents\\deeplearning\\deep_learn\\mindful_ss_extraction\\ssenv\\lib\\site-packages (from sympy->torch->easyocr) (1.3.0)\n",
            "Using cached easyocr-1.7.1-py3-none-any.whl (2.9 MB)\n",
            "Using cached opencv_python_headless-4.8.0.76-cp37-abi3-win_amd64.whl (38.0 MB)\n",
            "Using cached scikit_image-0.21.0-cp38-cp38-win_amd64.whl (22.7 MB)\n",
            "Using cached imageio-2.31.3-py3-none-any.whl (313 kB)\n",
            "Using cached lazy_loader-0.3-py3-none-any.whl (9.1 kB)\n",
            "Installing collected packages: opencv-python-headless, lazy_loader, imageio, scikit-image, easyocr\n"
          ]
        },
        {
          "name": "stderr",
          "output_type": "stream",
          "text": [
            "ERROR: Could not install packages due to an OSError: [WinError 5] Access is denied: 'C:\\\\Users\\\\shyam\\\\OneDrive\\\\Documents\\\\deeplearning\\\\deep_learn\\\\mindful_ss_extraction\\\\ssenv\\\\Lib\\\\site-packages\\\\cv2\\\\cv2.pyd'\n",
            "Check the permissions.\n",
            "\n"
          ]
        }
      ],
      "source": [
        "! pip install easyocr"
      ]
    },
    {
      "cell_type": "code",
      "execution_count": 4,
      "metadata": {},
      "outputs": [
        {
          "data": {
            "text/plain": [
              "'c:\\\\Users\\\\shyam\\\\OneDrive\\\\Documents\\\\deeplearning\\\\deep_learn\\\\mindful\\\\main'"
            ]
          },
          "execution_count": 4,
          "metadata": {},
          "output_type": "execute_result"
        }
      ],
      "source": [
        "import os\n",
        "os.getcwd()"
      ]
    },
    {
      "cell_type": "code",
      "execution_count": 3,
      "metadata": {
        "colab": {
          "base_uri": "https://localhost:8080/"
        },
        "id": "XTodlMS3k6gL",
        "outputId": "7eac3dfd-16b9-4670-a1ea-0ba9b42141ae"
      },
      "outputs": [
        {
          "name": "stderr",
          "output_type": "stream",
          "text": [
            "The system cannot find the path specified.\n"
          ]
        }
      ],
      "source": [
        "# !git clone https://github.com/Psarpei/Multi-Type-TD-TSR.git\n",
        "!cd main"
      ]
    },
    {
      "cell_type": "markdown",
      "metadata": {
        "id": "NzywSWN0mPqt"
      },
      "source": [
        "## 3. Download Table Detection Weights and Configuration File"
      ]
    },
    {
      "cell_type": "code",
      "execution_count": 10,
      "metadata": {
        "colab": {
          "base_uri": "https://localhost:8080/"
        },
        "id": "9PM35KxbmQBp",
        "outputId": "c8040633-e606-4351-e7d6-9f1c9a02f746"
      },
      "outputs": [
        {
          "name": "stderr",
          "output_type": "stream",
          "text": [
            "'gdown' is not recognized as an internal or external command,\n",
            "operable program or batch file.\n",
            "'gdown' is not recognized as an internal or external command,\n",
            "operable program or batch file.\n"
          ]
        },
        {
          "name": "stderr",
          "output_type": "stream",
          "text": [
            "'gdown' is not recognized as an internal or external command,\n",
            "operable program or batch file.\n"
          ]
        }
      ],
      "source": [
        "!gdown --id 11FgFTy0MyVUMGd00T_InEDaarB4qAlP8\n",
        "!gdown --id 1WBk6kHHyvyEzoPBsRr2BvFY51zURjd4R\n",
        "!gdown --id 1PfA2uws919gc893-x9uMIz06zWEko8nF "
      ]
    },
    {
      "cell_type": "markdown",
      "metadata": {
        "id": "rAcoWOJhuy9f"
      },
      "source": [
        "## 4. Import Everything"
      ]
    },
    {
      "cell_type": "code",
      "execution_count": 33,
      "metadata": {
        "colab": {
          "base_uri": "https://localhost:8080/",
          "height": 132
        },
        "id": "APmN3Hzy2hBT",
        "outputId": "679089f3-b555-40e2-aabd-ef890d64c29a"
      },
      "outputs": [
        {
          "data": {
            "text/plain": [
              "<Logger detectron2 (DEBUG)>"
            ]
          },
          "execution_count": 33,
          "metadata": {},
          "output_type": "execute_result"
        }
      ],
      "source": [
        "import detectron2\n",
        "import google_colab.deskew as deskew\n",
        "import google_colab.table_detection as table_detection\n",
        "import google_colab.table_structure_recognition_all as tsra\n",
        "import google_colab.table_structure_recognition_lines as tsrl\n",
        "import google_colab.table_structure_recognition_wol as tsrwol\n",
        "import google_colab.table_structure_recognition_lines_wol as tsrlwol\n",
        "import google_colab.table_xml as txml\n",
        "import google_colab.table_ocr as tocr\n",
        "import pandas as pd\n",
        "import os\n",
        "import json\n",
        "\n",
        "import itertools\n",
        "import random\n",
        "from detectron2.utils.logger import setup_logger\n",
        "# import some common libraries\n",
        "import numpy as np\n",
        "import cv2\n",
        "import matplotlib.pyplot as plt\n",
        "# import some common detectron2 utilities\n",
        "from detectron2 import model_zoo\n",
        "from detectron2.engine import DefaultPredictor\n",
        "from detectron2.config import get_cfg\n",
        "from detectron2.utils.visualizer import Visualizer\n",
        "from detectron2.data import MetadataCatalog\n",
        "from detectron2.data import DatasetCatalog, MetadataCatalog\n",
        "# from google.colab.patches import cv2_imshow\n",
        "setup_logger()"
      ]
    },
    {
      "cell_type": "markdown",
      "metadata": {
        "id": "gfC4Tc0qyY-k"
      },
      "source": [
        "## 5. Initialize Table Detection Detector"
      ]
    },
    {
      "cell_type": "code",
      "execution_count": 2,
      "metadata": {
        "id": "40USlclsyW4K"
      },
      "outputs": [
        {
          "name": "stdout",
          "output_type": "stream",
          "text": [
            "\u001b[32m[09/22 16:30:15 d2.checkpoint.detection_checkpoint]: \u001b[0m[DetectionCheckpointer] Loading from model_final.pth ...\n"
          ]
        },
        {
          "name": "stderr",
          "output_type": "stream",
          "text": [
            "The checkpoint state_dict contains keys that are not used by the model:\n",
            "  \u001b[35mpixel_mean\u001b[0m\n",
            "  \u001b[35mpixel_std\u001b[0m\n"
          ]
        }
      ],
      "source": [
        "#create detectron config\n",
        "cfg = get_cfg()\n",
        "\n",
        "#set yaml\n",
        "cfg.merge_from_file('All_X152.yaml')\n",
        "\n",
        "#set model weights\n",
        "cfg.MODEL.WEIGHTS = 'model_final.pth' # Set path model .pth\n",
        "\n",
        "predictor = DefaultPredictor(cfg) "
      ]
    },
    {
      "cell_type": "code",
      "execution_count": null,
      "metadata": {},
      "outputs": [
        {
          "name": "stdout",
          "output_type": "stream",
          "text": [
            "Image saved as extracted_tables\\image_10.png\n",
            "Image saved as extracted_tables\\image_11.png\n"
          ]
        },
        {
          "ename": "error",
          "evalue": "OpenCV(4.8.0) :-1: error: (-5:Bad argument) in function 'imshow'\n> Overload resolution failed:\n>  - imshow() missing required argument 'mat' (pos 2)\n>  - imshow() missing required argument 'mat' (pos 2)\n>  - imshow() missing required argument 'mat' (pos 2)\n",
          "output_type": "error",
          "traceback": [
            "\u001b[1;31m---------------------------------------------------------------------------\u001b[0m\n",
            "\u001b[1;31merror\u001b[0m                                     Traceback (most recent call last)\n",
            "\u001b[1;32mc:\\Users\\shyam\\OneDrive\\Documents\\deeplearning\\deep_learn\\mindful_ss_extraction\\main\\Table_Recognition.ipynb Cell 10\u001b[0m line \u001b[0;36m6\n",
            "\u001b[0;32m      <a href='vscode-notebook-cell:/c%3A/Users/shyam/OneDrive/Documents/deeplearning/deep_learn/mindful_ss_extraction/main/Table_Recognition.ipynb#X52sZmlsZQ%3D%3D?line=3'>4</a>\u001b[0m list_table_boxes \u001b[39m=\u001b[39m []\n",
            "\u001b[0;32m      <a href='vscode-notebook-cell:/c%3A/Users/shyam/OneDrive/Documents/deeplearning/deep_learn/mindful_ss_extraction/main/Table_Recognition.ipynb#X52sZmlsZQ%3D%3D?line=4'>5</a>\u001b[0m \u001b[39mfor\u001b[39;00m table \u001b[39min\u001b[39;00m table_list:\n",
            "\u001b[1;32m----> <a href='vscode-notebook-cell:/c%3A/Users/shyam/OneDrive/Documents/deeplearning/deep_learn/mindful_ss_extraction/main/Table_Recognition.ipynb#X52sZmlsZQ%3D%3D?line=5'>6</a>\u001b[0m     finalboxes, output_img \u001b[39m=\u001b[39m tsrlwol\u001b[39m.\u001b[39;49mrecognize_structure(table)\n",
            "\u001b[0;32m      <a href='vscode-notebook-cell:/c%3A/Users/shyam/OneDrive/Documents/deeplearning/deep_learn/mindful_ss_extraction/main/Table_Recognition.ipynb#X52sZmlsZQ%3D%3D?line=6'>7</a>\u001b[0m     list_table_boxes\u001b[39m.\u001b[39mappend(finalboxes)\n",
            "\n",
            "File \u001b[1;32mc:\\Users\\shyam\\OneDrive\\Documents\\deeplearning\\deep_learn\\mindful_ss_extraction\\main\\google_colab\\table_structure_recognition_lines_wol.py:26\u001b[0m, in \u001b[0;36mrecognize_structure\u001b[1;34m(img)\u001b[0m\n",
            "\u001b[0;32m     22\u001b[0m img_height, img_width \u001b[39m=\u001b[39m img\u001b[39m.\u001b[39mshape\n",
            "\u001b[0;32m     24\u001b[0m \u001b[39m#print(\"img_height\", img_height, \"img_width\", img_width)\u001b[39;00m\n",
            "\u001b[1;32m---> 26\u001b[0m cv2\u001b[39m.\u001b[39;49mimshow(img)\n",
            "\u001b[0;32m     28\u001b[0m \u001b[39m# thresholding the image to a binary image\u001b[39;00m\n",
            "\u001b[0;32m     29\u001b[0m \u001b[39m#thresh, img_bin = cv2.threshold(img, 127, 255, cv2.THRESH_BINARY | cv2.THRESH_OTSU)\u001b[39;00m\n",
            "\u001b[0;32m     30\u001b[0m \u001b[39m#img_bin = cv2.adaptiveThreshold(img, 255, cv2.ADAPTIVE_THRESH_GAUSSIAN_C, cv2.THRESH_BINARY,5,5)\u001b[39;00m\n",
            "\u001b[0;32m     31\u001b[0m thresh, img_bin \u001b[39m=\u001b[39m cv2\u001b[39m.\u001b[39mthreshold(img, \u001b[39m180\u001b[39m, \u001b[39m255\u001b[39m, cv2\u001b[39m.\u001b[39mTHRESH_BINARY)\n",
            "\n",
            "\u001b[1;31merror\u001b[0m: OpenCV(4.8.0) :-1: error: (-5:Bad argument) in function 'imshow'\n",
            "> Overload resolution failed:\n",
            ">  - imshow() missing required argument 'mat' (pos 2)\n",
            ">  - imshow() missing required argument 'mat' (pos 2)\n",
            ">  - imshow() missing required argument 'mat' (pos 2)\n"
          ]
        }
      ],
      "source": [
        "document_example = cv2.imread(\"../screenshot/screenshot0 (2).jpg\")\n",
        "\n",
        "table_list, table_coords,_ = table_detection.make_prediction(document_example, predictor)\n",
        "list_table_boxes = []\n",
        "for table in table_list:\n",
        "    finalboxes, output_img = tsrlwol.recognize_structure(table)\n",
        "    list_table_boxes.append(finalboxes)"
      ]
    },
    {
      "cell_type": "markdown",
      "metadata": {
        "id": "74mow_zjx9PM"
      },
      "source": [
        "# Table Rotation"
      ]
    },
    {
      "cell_type": "code",
      "execution_count": null,
      "metadata": {
        "colab": {
          "base_uri": "https://localhost:8080/",
          "height": 1000
        },
        "id": "igUxUIfgjDAv",
        "outputId": "9781134f-247d-4974-8d8b-498a2cfe2152"
      },
      "outputs": [],
      "source": [
        "# path to the image scan of the document\n",
        "file = \"/content/Multi_Type_TD_TSR/images/rotated_example.jpeg\" \n",
        "\n",
        "# load the image from disk\n",
        "original_image = cv2.imread(file)\n",
        "deskewed_image = deskew.deskewImage(original_image)\n",
        "\n",
        "print(\"ORIGINAL IMAGE:\")\n",
        "cv2.imshow(original_image)\n",
        "\n",
        "print()\n",
        "\n",
        "print(\"DESKEWED IMAGE:\")\n",
        "cv2.imshow(deskewed_image)"
      ]
    },
    {
      "cell_type": "markdown",
      "metadata": {
        "id": "ZULY2YyDJoYH"
      },
      "source": [
        "# Table Detection"
      ]
    },
    {
      "cell_type": "code",
      "execution_count": 16,
      "metadata": {
        "colab": {
          "base_uri": "https://localhost:8080/",
          "height": 965
        },
        "id": "xKuMpvAXBvD4",
        "outputId": "225ad151-491f-41ce-d19e-16cb0ec067be"
      },
      "outputs": [
        {
          "ename": "KeyboardInterrupt",
          "evalue": "",
          "output_type": "error",
          "traceback": [
            "\u001b[1;31m---------------------------------------------------------------------------\u001b[0m",
            "\u001b[1;31mKeyboardInterrupt\u001b[0m                         Traceback (most recent call last)",
            "\u001b[1;32mc:\\Users\\shyam\\OneDrive\\Documents\\deeplearning\\deep_learn\\mindful_ss_extraction\\main\\Table_Recognition.ipynb Cell 15\u001b[0m line \u001b[0;36m2\n\u001b[0;32m      <a href='vscode-notebook-cell:/c%3A/Users/shyam/OneDrive/Documents/deeplearning/deep_learn/mindful_ss_extraction/main/Table_Recognition.ipynb#X20sZmlsZQ%3D%3D?line=0'>1</a>\u001b[0m document_img \u001b[39m=\u001b[39m cv2\u001b[39m.\u001b[39mimread(\u001b[39m\"\u001b[39m\u001b[39m../screenshot/screenshot0 (1).jpg\u001b[39m\u001b[39m\"\u001b[39m)\n\u001b[1;32m----> <a href='vscode-notebook-cell:/c%3A/Users/shyam/OneDrive/Documents/deeplearning/deep_learn/mindful_ss_extraction/main/Table_Recognition.ipynb#X20sZmlsZQ%3D%3D?line=1'>2</a>\u001b[0m table_detection\u001b[39m.\u001b[39;49mmake_prediction(document_img, predictor)\n",
            "File \u001b[1;32mc:\\Users\\shyam\\OneDrive\\Documents\\deeplearning\\deep_learn\\mindful_ss_extraction\\main\\google_colab\\table_detection.py:38\u001b[0m, in \u001b[0;36mmake_prediction\u001b[1;34m(img, predictor, show_result)\u001b[0m\n\u001b[0;32m     35\u001b[0m \u001b[39mdef\u001b[39;00m \u001b[39mmake_prediction\u001b[39m(img, predictor, show_result\u001b[39m=\u001b[39m\u001b[39mFalse\u001b[39;00m):\n\u001b[0;32m     36\u001b[0m     \n\u001b[0;32m     37\u001b[0m     \u001b[39m#img = cv2.imread(img_path)\u001b[39;00m\n\u001b[1;32m---> 38\u001b[0m     outputs \u001b[39m=\u001b[39m predictor(img)\n\u001b[0;32m     40\u001b[0m     table_list \u001b[39m=\u001b[39m []\n\u001b[0;32m     41\u001b[0m     table_coords \u001b[39m=\u001b[39m []\n",
            "File \u001b[1;32m~\\OneDrive\\Documents\\deeplearning\\deep_learn\\mindful_ss_extraction\\ssenv\\lib\\site-packages\\detectron2\\engine\\defaults.py:317\u001b[0m, in \u001b[0;36mDefaultPredictor.__call__\u001b[1;34m(self, original_image)\u001b[0m\n\u001b[0;32m    314\u001b[0m image \u001b[39m=\u001b[39m torch\u001b[39m.\u001b[39mas_tensor(image\u001b[39m.\u001b[39mastype(\u001b[39m\"\u001b[39m\u001b[39mfloat32\u001b[39m\u001b[39m\"\u001b[39m)\u001b[39m.\u001b[39mtranspose(\u001b[39m2\u001b[39m, \u001b[39m0\u001b[39m, \u001b[39m1\u001b[39m))\n\u001b[0;32m    316\u001b[0m inputs \u001b[39m=\u001b[39m {\u001b[39m\"\u001b[39m\u001b[39mimage\u001b[39m\u001b[39m\"\u001b[39m: image, \u001b[39m\"\u001b[39m\u001b[39mheight\u001b[39m\u001b[39m\"\u001b[39m: height, \u001b[39m\"\u001b[39m\u001b[39mwidth\u001b[39m\u001b[39m\"\u001b[39m: width}\n\u001b[1;32m--> 317\u001b[0m predictions \u001b[39m=\u001b[39m \u001b[39mself\u001b[39;49m\u001b[39m.\u001b[39;49mmodel([inputs])[\u001b[39m0\u001b[39m]\n\u001b[0;32m    318\u001b[0m \u001b[39mreturn\u001b[39;00m predictions\n",
            "File \u001b[1;32m~\\OneDrive\\Documents\\deeplearning\\deep_learn\\mindful_ss_extraction\\ssenv\\lib\\site-packages\\torch\\nn\\modules\\module.py:1501\u001b[0m, in \u001b[0;36mModule._call_impl\u001b[1;34m(self, *args, **kwargs)\u001b[0m\n\u001b[0;32m   1496\u001b[0m \u001b[39m# If we don't have any hooks, we want to skip the rest of the logic in\u001b[39;00m\n\u001b[0;32m   1497\u001b[0m \u001b[39m# this function, and just call forward.\u001b[39;00m\n\u001b[0;32m   1498\u001b[0m \u001b[39mif\u001b[39;00m \u001b[39mnot\u001b[39;00m (\u001b[39mself\u001b[39m\u001b[39m.\u001b[39m_backward_hooks \u001b[39mor\u001b[39;00m \u001b[39mself\u001b[39m\u001b[39m.\u001b[39m_backward_pre_hooks \u001b[39mor\u001b[39;00m \u001b[39mself\u001b[39m\u001b[39m.\u001b[39m_forward_hooks \u001b[39mor\u001b[39;00m \u001b[39mself\u001b[39m\u001b[39m.\u001b[39m_forward_pre_hooks\n\u001b[0;32m   1499\u001b[0m         \u001b[39mor\u001b[39;00m _global_backward_pre_hooks \u001b[39mor\u001b[39;00m _global_backward_hooks\n\u001b[0;32m   1500\u001b[0m         \u001b[39mor\u001b[39;00m _global_forward_hooks \u001b[39mor\u001b[39;00m _global_forward_pre_hooks):\n\u001b[1;32m-> 1501\u001b[0m     \u001b[39mreturn\u001b[39;00m forward_call(\u001b[39m*\u001b[39;49margs, \u001b[39m*\u001b[39;49m\u001b[39m*\u001b[39;49mkwargs)\n\u001b[0;32m   1502\u001b[0m \u001b[39m# Do not call functions when jit is used\u001b[39;00m\n\u001b[0;32m   1503\u001b[0m full_backward_hooks, non_full_backward_hooks \u001b[39m=\u001b[39m [], []\n",
            "File \u001b[1;32m~\\OneDrive\\Documents\\deeplearning\\deep_learn\\mindful_ss_extraction\\ssenv\\lib\\site-packages\\detectron2\\modeling\\meta_arch\\rcnn.py:150\u001b[0m, in \u001b[0;36mGeneralizedRCNN.forward\u001b[1;34m(self, batched_inputs)\u001b[0m\n\u001b[0;32m    127\u001b[0m \u001b[39m\u001b[39m\u001b[39m\"\"\"\u001b[39;00m\n\u001b[0;32m    128\u001b[0m \u001b[39mArgs:\u001b[39;00m\n\u001b[0;32m    129\u001b[0m \u001b[39m    batched_inputs: a list, batched outputs of :class:`DatasetMapper` .\u001b[39;00m\n\u001b[1;32m   (...)\u001b[0m\n\u001b[0;32m    147\u001b[0m \u001b[39m        \"pred_boxes\", \"pred_classes\", \"scores\", \"pred_masks\", \"pred_keypoints\"\u001b[39;00m\n\u001b[0;32m    148\u001b[0m \u001b[39m\"\"\"\u001b[39;00m\n\u001b[0;32m    149\u001b[0m \u001b[39mif\u001b[39;00m \u001b[39mnot\u001b[39;00m \u001b[39mself\u001b[39m\u001b[39m.\u001b[39mtraining:\n\u001b[1;32m--> 150\u001b[0m     \u001b[39mreturn\u001b[39;00m \u001b[39mself\u001b[39;49m\u001b[39m.\u001b[39;49minference(batched_inputs)\n\u001b[0;32m    152\u001b[0m images \u001b[39m=\u001b[39m \u001b[39mself\u001b[39m\u001b[39m.\u001b[39mpreprocess_image(batched_inputs)\n\u001b[0;32m    153\u001b[0m \u001b[39mif\u001b[39;00m \u001b[39m\"\u001b[39m\u001b[39minstances\u001b[39m\u001b[39m\"\u001b[39m \u001b[39min\u001b[39;00m batched_inputs[\u001b[39m0\u001b[39m]:\n",
            "File \u001b[1;32m~\\OneDrive\\Documents\\deeplearning\\deep_learn\\mindful_ss_extraction\\ssenv\\lib\\site-packages\\detectron2\\modeling\\meta_arch\\rcnn.py:204\u001b[0m, in \u001b[0;36mGeneralizedRCNN.inference\u001b[1;34m(self, batched_inputs, detected_instances, do_postprocess)\u001b[0m\n\u001b[0;32m    201\u001b[0m \u001b[39massert\u001b[39;00m \u001b[39mnot\u001b[39;00m \u001b[39mself\u001b[39m\u001b[39m.\u001b[39mtraining\n\u001b[0;32m    203\u001b[0m images \u001b[39m=\u001b[39m \u001b[39mself\u001b[39m\u001b[39m.\u001b[39mpreprocess_image(batched_inputs)\n\u001b[1;32m--> 204\u001b[0m features \u001b[39m=\u001b[39m \u001b[39mself\u001b[39;49m\u001b[39m.\u001b[39;49mbackbone(images\u001b[39m.\u001b[39;49mtensor)\n\u001b[0;32m    206\u001b[0m \u001b[39mif\u001b[39;00m detected_instances \u001b[39mis\u001b[39;00m \u001b[39mNone\u001b[39;00m:\n\u001b[0;32m    207\u001b[0m     \u001b[39mif\u001b[39;00m \u001b[39mself\u001b[39m\u001b[39m.\u001b[39mproposal_generator \u001b[39mis\u001b[39;00m \u001b[39mnot\u001b[39;00m \u001b[39mNone\u001b[39;00m:\n",
            "File \u001b[1;32m~\\OneDrive\\Documents\\deeplearning\\deep_learn\\mindful_ss_extraction\\ssenv\\lib\\site-packages\\torch\\nn\\modules\\module.py:1501\u001b[0m, in \u001b[0;36mModule._call_impl\u001b[1;34m(self, *args, **kwargs)\u001b[0m\n\u001b[0;32m   1496\u001b[0m \u001b[39m# If we don't have any hooks, we want to skip the rest of the logic in\u001b[39;00m\n\u001b[0;32m   1497\u001b[0m \u001b[39m# this function, and just call forward.\u001b[39;00m\n\u001b[0;32m   1498\u001b[0m \u001b[39mif\u001b[39;00m \u001b[39mnot\u001b[39;00m (\u001b[39mself\u001b[39m\u001b[39m.\u001b[39m_backward_hooks \u001b[39mor\u001b[39;00m \u001b[39mself\u001b[39m\u001b[39m.\u001b[39m_backward_pre_hooks \u001b[39mor\u001b[39;00m \u001b[39mself\u001b[39m\u001b[39m.\u001b[39m_forward_hooks \u001b[39mor\u001b[39;00m \u001b[39mself\u001b[39m\u001b[39m.\u001b[39m_forward_pre_hooks\n\u001b[0;32m   1499\u001b[0m         \u001b[39mor\u001b[39;00m _global_backward_pre_hooks \u001b[39mor\u001b[39;00m _global_backward_hooks\n\u001b[0;32m   1500\u001b[0m         \u001b[39mor\u001b[39;00m _global_forward_hooks \u001b[39mor\u001b[39;00m _global_forward_pre_hooks):\n\u001b[1;32m-> 1501\u001b[0m     \u001b[39mreturn\u001b[39;00m forward_call(\u001b[39m*\u001b[39;49margs, \u001b[39m*\u001b[39;49m\u001b[39m*\u001b[39;49mkwargs)\n\u001b[0;32m   1502\u001b[0m \u001b[39m# Do not call functions when jit is used\u001b[39;00m\n\u001b[0;32m   1503\u001b[0m full_backward_hooks, non_full_backward_hooks \u001b[39m=\u001b[39m [], []\n",
            "File \u001b[1;32m~\\OneDrive\\Documents\\deeplearning\\deep_learn\\mindful_ss_extraction\\ssenv\\lib\\site-packages\\detectron2\\modeling\\backbone\\fpn.py:139\u001b[0m, in \u001b[0;36mFPN.forward\u001b[1;34m(self, x)\u001b[0m\n\u001b[0;32m    126\u001b[0m \u001b[39mdef\u001b[39;00m \u001b[39mforward\u001b[39m(\u001b[39mself\u001b[39m, x):\n\u001b[0;32m    127\u001b[0m \u001b[39m    \u001b[39m\u001b[39m\"\"\"\u001b[39;00m\n\u001b[0;32m    128\u001b[0m \u001b[39m    Args:\u001b[39;00m\n\u001b[0;32m    129\u001b[0m \u001b[39m        input (dict[str->Tensor]): mapping feature map name (e.g., \"res5\") to\u001b[39;00m\n\u001b[1;32m   (...)\u001b[0m\n\u001b[0;32m    137\u001b[0m \u001b[39m            [\"p2\", \"p3\", ..., \"p6\"].\u001b[39;00m\n\u001b[0;32m    138\u001b[0m \u001b[39m    \"\"\"\u001b[39;00m\n\u001b[1;32m--> 139\u001b[0m     bottom_up_features \u001b[39m=\u001b[39m \u001b[39mself\u001b[39;49m\u001b[39m.\u001b[39;49mbottom_up(x)\n\u001b[0;32m    140\u001b[0m     results \u001b[39m=\u001b[39m []\n\u001b[0;32m    141\u001b[0m     prev_features \u001b[39m=\u001b[39m \u001b[39mself\u001b[39m\u001b[39m.\u001b[39mlateral_convs[\u001b[39m0\u001b[39m](bottom_up_features[\u001b[39mself\u001b[39m\u001b[39m.\u001b[39min_features[\u001b[39m-\u001b[39m\u001b[39m1\u001b[39m]])\n",
            "File \u001b[1;32m~\\OneDrive\\Documents\\deeplearning\\deep_learn\\mindful_ss_extraction\\ssenv\\lib\\site-packages\\torch\\nn\\modules\\module.py:1501\u001b[0m, in \u001b[0;36mModule._call_impl\u001b[1;34m(self, *args, **kwargs)\u001b[0m\n\u001b[0;32m   1496\u001b[0m \u001b[39m# If we don't have any hooks, we want to skip the rest of the logic in\u001b[39;00m\n\u001b[0;32m   1497\u001b[0m \u001b[39m# this function, and just call forward.\u001b[39;00m\n\u001b[0;32m   1498\u001b[0m \u001b[39mif\u001b[39;00m \u001b[39mnot\u001b[39;00m (\u001b[39mself\u001b[39m\u001b[39m.\u001b[39m_backward_hooks \u001b[39mor\u001b[39;00m \u001b[39mself\u001b[39m\u001b[39m.\u001b[39m_backward_pre_hooks \u001b[39mor\u001b[39;00m \u001b[39mself\u001b[39m\u001b[39m.\u001b[39m_forward_hooks \u001b[39mor\u001b[39;00m \u001b[39mself\u001b[39m\u001b[39m.\u001b[39m_forward_pre_hooks\n\u001b[0;32m   1499\u001b[0m         \u001b[39mor\u001b[39;00m _global_backward_pre_hooks \u001b[39mor\u001b[39;00m _global_backward_hooks\n\u001b[0;32m   1500\u001b[0m         \u001b[39mor\u001b[39;00m _global_forward_hooks \u001b[39mor\u001b[39;00m _global_forward_pre_hooks):\n\u001b[1;32m-> 1501\u001b[0m     \u001b[39mreturn\u001b[39;00m forward_call(\u001b[39m*\u001b[39;49margs, \u001b[39m*\u001b[39;49m\u001b[39m*\u001b[39;49mkwargs)\n\u001b[0;32m   1502\u001b[0m \u001b[39m# Do not call functions when jit is used\u001b[39;00m\n\u001b[0;32m   1503\u001b[0m full_backward_hooks, non_full_backward_hooks \u001b[39m=\u001b[39m [], []\n",
            "File \u001b[1;32m~\\OneDrive\\Documents\\deeplearning\\deep_learn\\mindful_ss_extraction\\ssenv\\lib\\site-packages\\detectron2\\modeling\\backbone\\resnet.py:449\u001b[0m, in \u001b[0;36mResNet.forward\u001b[1;34m(self, x)\u001b[0m\n\u001b[0;32m    447\u001b[0m     outputs[\u001b[39m\"\u001b[39m\u001b[39mstem\u001b[39m\u001b[39m\"\u001b[39m] \u001b[39m=\u001b[39m x\n\u001b[0;32m    448\u001b[0m \u001b[39mfor\u001b[39;00m name, stage \u001b[39min\u001b[39;00m \u001b[39mzip\u001b[39m(\u001b[39mself\u001b[39m\u001b[39m.\u001b[39mstage_names, \u001b[39mself\u001b[39m\u001b[39m.\u001b[39mstages):\n\u001b[1;32m--> 449\u001b[0m     x \u001b[39m=\u001b[39m stage(x)\n\u001b[0;32m    450\u001b[0m     \u001b[39mif\u001b[39;00m name \u001b[39min\u001b[39;00m \u001b[39mself\u001b[39m\u001b[39m.\u001b[39m_out_features:\n\u001b[0;32m    451\u001b[0m         outputs[name] \u001b[39m=\u001b[39m x\n",
            "File \u001b[1;32m~\\OneDrive\\Documents\\deeplearning\\deep_learn\\mindful_ss_extraction\\ssenv\\lib\\site-packages\\torch\\nn\\modules\\module.py:1501\u001b[0m, in \u001b[0;36mModule._call_impl\u001b[1;34m(self, *args, **kwargs)\u001b[0m\n\u001b[0;32m   1496\u001b[0m \u001b[39m# If we don't have any hooks, we want to skip the rest of the logic in\u001b[39;00m\n\u001b[0;32m   1497\u001b[0m \u001b[39m# this function, and just call forward.\u001b[39;00m\n\u001b[0;32m   1498\u001b[0m \u001b[39mif\u001b[39;00m \u001b[39mnot\u001b[39;00m (\u001b[39mself\u001b[39m\u001b[39m.\u001b[39m_backward_hooks \u001b[39mor\u001b[39;00m \u001b[39mself\u001b[39m\u001b[39m.\u001b[39m_backward_pre_hooks \u001b[39mor\u001b[39;00m \u001b[39mself\u001b[39m\u001b[39m.\u001b[39m_forward_hooks \u001b[39mor\u001b[39;00m \u001b[39mself\u001b[39m\u001b[39m.\u001b[39m_forward_pre_hooks\n\u001b[0;32m   1499\u001b[0m         \u001b[39mor\u001b[39;00m _global_backward_pre_hooks \u001b[39mor\u001b[39;00m _global_backward_hooks\n\u001b[0;32m   1500\u001b[0m         \u001b[39mor\u001b[39;00m _global_forward_hooks \u001b[39mor\u001b[39;00m _global_forward_pre_hooks):\n\u001b[1;32m-> 1501\u001b[0m     \u001b[39mreturn\u001b[39;00m forward_call(\u001b[39m*\u001b[39;49margs, \u001b[39m*\u001b[39;49m\u001b[39m*\u001b[39;49mkwargs)\n\u001b[0;32m   1502\u001b[0m \u001b[39m# Do not call functions when jit is used\u001b[39;00m\n\u001b[0;32m   1503\u001b[0m full_backward_hooks, non_full_backward_hooks \u001b[39m=\u001b[39m [], []\n",
            "File \u001b[1;32m~\\OneDrive\\Documents\\deeplearning\\deep_learn\\mindful_ss_extraction\\ssenv\\lib\\site-packages\\torch\\nn\\modules\\container.py:217\u001b[0m, in \u001b[0;36mSequential.forward\u001b[1;34m(self, input)\u001b[0m\n\u001b[0;32m    215\u001b[0m \u001b[39mdef\u001b[39;00m \u001b[39mforward\u001b[39m(\u001b[39mself\u001b[39m, \u001b[39minput\u001b[39m):\n\u001b[0;32m    216\u001b[0m     \u001b[39mfor\u001b[39;00m module \u001b[39min\u001b[39;00m \u001b[39mself\u001b[39m:\n\u001b[1;32m--> 217\u001b[0m         \u001b[39minput\u001b[39m \u001b[39m=\u001b[39m module(\u001b[39minput\u001b[39;49m)\n\u001b[0;32m    218\u001b[0m     \u001b[39mreturn\u001b[39;00m \u001b[39minput\u001b[39m\n",
            "File \u001b[1;32m~\\OneDrive\\Documents\\deeplearning\\deep_learn\\mindful_ss_extraction\\ssenv\\lib\\site-packages\\torch\\nn\\modules\\module.py:1501\u001b[0m, in \u001b[0;36mModule._call_impl\u001b[1;34m(self, *args, **kwargs)\u001b[0m\n\u001b[0;32m   1496\u001b[0m \u001b[39m# If we don't have any hooks, we want to skip the rest of the logic in\u001b[39;00m\n\u001b[0;32m   1497\u001b[0m \u001b[39m# this function, and just call forward.\u001b[39;00m\n\u001b[0;32m   1498\u001b[0m \u001b[39mif\u001b[39;00m \u001b[39mnot\u001b[39;00m (\u001b[39mself\u001b[39m\u001b[39m.\u001b[39m_backward_hooks \u001b[39mor\u001b[39;00m \u001b[39mself\u001b[39m\u001b[39m.\u001b[39m_backward_pre_hooks \u001b[39mor\u001b[39;00m \u001b[39mself\u001b[39m\u001b[39m.\u001b[39m_forward_hooks \u001b[39mor\u001b[39;00m \u001b[39mself\u001b[39m\u001b[39m.\u001b[39m_forward_pre_hooks\n\u001b[0;32m   1499\u001b[0m         \u001b[39mor\u001b[39;00m _global_backward_pre_hooks \u001b[39mor\u001b[39;00m _global_backward_hooks\n\u001b[0;32m   1500\u001b[0m         \u001b[39mor\u001b[39;00m _global_forward_hooks \u001b[39mor\u001b[39;00m _global_forward_pre_hooks):\n\u001b[1;32m-> 1501\u001b[0m     \u001b[39mreturn\u001b[39;00m forward_call(\u001b[39m*\u001b[39;49margs, \u001b[39m*\u001b[39;49m\u001b[39m*\u001b[39;49mkwargs)\n\u001b[0;32m   1502\u001b[0m \u001b[39m# Do not call functions when jit is used\u001b[39;00m\n\u001b[0;32m   1503\u001b[0m full_backward_hooks, non_full_backward_hooks \u001b[39m=\u001b[39m [], []\n",
            "File \u001b[1;32m~\\OneDrive\\Documents\\deeplearning\\deep_learn\\mindful_ss_extraction\\ssenv\\lib\\site-packages\\detectron2\\modeling\\backbone\\resnet.py:199\u001b[0m, in \u001b[0;36mBottleneckBlock.forward\u001b[1;34m(self, x)\u001b[0m\n\u001b[0;32m    196\u001b[0m out \u001b[39m=\u001b[39m F\u001b[39m.\u001b[39mrelu_(out)\n\u001b[0;32m    198\u001b[0m out \u001b[39m=\u001b[39m \u001b[39mself\u001b[39m\u001b[39m.\u001b[39mconv2(out)\n\u001b[1;32m--> 199\u001b[0m out \u001b[39m=\u001b[39m F\u001b[39m.\u001b[39;49mrelu_(out)\n\u001b[0;32m    201\u001b[0m out \u001b[39m=\u001b[39m \u001b[39mself\u001b[39m\u001b[39m.\u001b[39mconv3(out)\n\u001b[0;32m    203\u001b[0m \u001b[39mif\u001b[39;00m \u001b[39mself\u001b[39m\u001b[39m.\u001b[39mshortcut \u001b[39mis\u001b[39;00m \u001b[39mnot\u001b[39;00m \u001b[39mNone\u001b[39;00m:\n",
            "\u001b[1;31mKeyboardInterrupt\u001b[0m: "
          ]
        }
      ],
      "source": [
        "document_img = cv2.imread(\"../screenshot/screenshot0 (1).jpg\")\n",
        "table_detection.make_prediction(document_img, predictor)\n"
      ]
    },
    {
      "cell_type": "code",
      "execution_count": 6,
      "metadata": {},
      "outputs": [
        {
          "ename": "AttributeError",
          "evalue": "'NoneType' object has no attribute 'shape'",
          "output_type": "error",
          "traceback": [
            "\u001b[1;31m---------------------------------------------------------------------------\u001b[0m",
            "\u001b[1;31mAttributeError\u001b[0m                            Traceback (most recent call last)",
            "\u001b[1;32mc:\\Users\\shyam\\OneDrive\\Documents\\deeplearning\\deep_learn\\mindful_ss_extraction\\main\\Table_Recognition.ipynb Cell 16\u001b[0m line \u001b[0;36m2\n\u001b[0;32m      <a href='vscode-notebook-cell:/c%3A/Users/shyam/OneDrive/Documents/deeplearning/deep_learn/mindful_ss_extraction/main/Table_Recognition.ipynb#X21sZmlsZQ%3D%3D?line=0'>1</a>\u001b[0m document_img \u001b[39m=\u001b[39m cv2\u001b[39m.\u001b[39mimread(\u001b[39m\"\u001b[39m\u001b[39m..\u001b[39m\u001b[39m\\\u001b[39m\u001b[39mscreenshot\u001b[39m\u001b[39m\\\u001b[39m\u001b[39mscreenshot0 (3).jpg\u001b[39m\u001b[39m\"\u001b[39m)\n\u001b[1;32m----> <a href='vscode-notebook-cell:/c%3A/Users/shyam/OneDrive/Documents/deeplearning/deep_learn/mindful_ss_extraction/main/Table_Recognition.ipynb#X21sZmlsZQ%3D%3D?line=1'>2</a>\u001b[0m table_detection\u001b[39m.\u001b[39;49mmake_prediction(document_img, predictor,show_result\u001b[39m=\u001b[39;49m\u001b[39mTrue\u001b[39;49;00m)\n",
            "File \u001b[1;32mc:\\Users\\shyam\\OneDrive\\Documents\\deeplearning\\deep_learn\\mindful_ss_extraction\\main\\google_colab\\table_detection.py:38\u001b[0m, in \u001b[0;36mmake_prediction\u001b[1;34m(img, predictor, show_result)\u001b[0m\n\u001b[0;32m     35\u001b[0m \u001b[39mdef\u001b[39;00m \u001b[39mmake_prediction\u001b[39m(img, predictor, show_result\u001b[39m=\u001b[39m\u001b[39mFalse\u001b[39;00m):\n\u001b[0;32m     36\u001b[0m     \n\u001b[0;32m     37\u001b[0m     \u001b[39m#img = cv2.imread(img_path)\u001b[39;00m\n\u001b[1;32m---> 38\u001b[0m     outputs \u001b[39m=\u001b[39m predictor(img)\n\u001b[0;32m     40\u001b[0m     table_list \u001b[39m=\u001b[39m []\n\u001b[0;32m     41\u001b[0m     table_coords \u001b[39m=\u001b[39m []\n",
            "File \u001b[1;32m~\\OneDrive\\Documents\\deeplearning\\deep_learn\\mindful_ss_extraction\\ssenv\\lib\\site-packages\\detectron2\\engine\\defaults.py:312\u001b[0m, in \u001b[0;36mDefaultPredictor.__call__\u001b[1;34m(self, original_image)\u001b[0m\n\u001b[0;32m    309\u001b[0m \u001b[39mif\u001b[39;00m \u001b[39mself\u001b[39m\u001b[39m.\u001b[39minput_format \u001b[39m==\u001b[39m \u001b[39m\"\u001b[39m\u001b[39mRGB\u001b[39m\u001b[39m\"\u001b[39m:\n\u001b[0;32m    310\u001b[0m     \u001b[39m# whether the model expects BGR inputs or RGB\u001b[39;00m\n\u001b[0;32m    311\u001b[0m     original_image \u001b[39m=\u001b[39m original_image[:, :, ::\u001b[39m-\u001b[39m\u001b[39m1\u001b[39m]\n\u001b[1;32m--> 312\u001b[0m height, width \u001b[39m=\u001b[39m original_image\u001b[39m.\u001b[39;49mshape[:\u001b[39m2\u001b[39m]\n\u001b[0;32m    313\u001b[0m image \u001b[39m=\u001b[39m \u001b[39mself\u001b[39m\u001b[39m.\u001b[39maug\u001b[39m.\u001b[39mget_transform(original_image)\u001b[39m.\u001b[39mapply_image(original_image)\n\u001b[0;32m    314\u001b[0m image \u001b[39m=\u001b[39m torch\u001b[39m.\u001b[39mas_tensor(image\u001b[39m.\u001b[39mastype(\u001b[39m\"\u001b[39m\u001b[39mfloat32\u001b[39m\u001b[39m\"\u001b[39m)\u001b[39m.\u001b[39mtranspose(\u001b[39m2\u001b[39m, \u001b[39m0\u001b[39m, \u001b[39m1\u001b[39m))\n",
            "\u001b[1;31mAttributeError\u001b[0m: 'NoneType' object has no attribute 'shape'"
          ]
        }
      ],
      "source": [
        "document_img = cv2.imread(\"..\\screenshot\\screenshot0 (3).jpg\")\n",
        "table_detection.make_prediction(document_img, predictor,show_result=True)\n"
      ]
    },
    {
      "cell_type": "code",
      "execution_count": 20,
      "metadata": {},
      "outputs": [
        {
          "name": "stdout",
          "output_type": "stream",
          "text": [
            "Image saved as extracted_tables\\image_8.png\n"
          ]
        },
        {
          "data": {
            "image/png": "[encoded data removed]",
            "text/plain": [
              "<Figure size 640x480 with 1 Axes>"
            ]
          },
          "metadata": {},
          "output_type": "display_data"
        },
        {
          "name": "stdout",
          "output_type": "stream",
          "text": [
            "Image saved as extracted_tables\\image_9.png\n"
          ]
        },
        {
          "data": {
            "image/png": "[encoded data removed]",
            "text/plain": [
              "<Figure size 640x480 with 1 Axes>"
            ]
          },
          "metadata": {},
          "output_type": "display_data"
        },
        {
          "name": "stdout",
          "output_type": "stream",
          "text": [
            "Image saved as extracted_tables\\image_10.png\n"
          ]
        },
        {
          "data": {
            "image/png": "[encoded data removed]",
            "text/plain": [
              "<Figure size 640x480 with 1 Axes>"
            ]
          },
          "metadata": {},
          "output_type": "display_data"
        },
        {
          "data": {
            "text/plain": [
              "([array([[[255, 255, 255],\n",
              "          [255, 255, 255],\n",
              "          [237, 237, 237],\n",
              "          ...,\n",
              "          [255, 255, 255],\n",
              "          [255, 255, 255],\n",
              "          [255, 255, 255]],\n",
              "  \n",
              "         [[250, 250, 250],\n",
              "          [252, 252, 252],\n",
              "          [218, 218, 218],\n",
              "          ...,\n",
              "          [213, 213, 213],\n",
              "          [213, 213, 213],\n",
              "          [213, 213, 213]],\n",
              "  \n",
              "         [[251, 251, 251],\n",
              "          [252, 252, 252],\n",
              "          [219, 219, 219],\n",
              "          ...,\n",
              "          [246, 246, 246],\n",
              "          [246, 246, 246],\n",
              "          [246, 246, 246]],\n",
              "  \n",
              "         ...,\n",
              "  \n",
              "         [[251, 251, 251],\n",
              "          [255, 255, 255],\n",
              "          [219, 219, 219],\n",
              "          ...,\n",
              "          [254, 254, 254],\n",
              "          [254, 254, 254],\n",
              "          [254, 254, 254]],\n",
              "  \n",
              "         [[251, 251, 251],\n",
              "          [254, 254, 254],\n",
              "          [217, 217, 217],\n",
              "          ...,\n",
              "          [250, 250, 250],\n",
              "          [250, 250, 250],\n",
              "          [250, 250, 250]],\n",
              "  \n",
              "         [[251, 251, 251],\n",
              "          [253, 253, 253],\n",
              "          [215, 215, 215],\n",
              "          ...,\n",
              "          [255, 255, 255],\n",
              "          [255, 255, 255],\n",
              "          [255, 255, 255]]], dtype=uint8),\n",
              "  array([[[246, 248, 248],\n",
              "          [244, 248, 243],\n",
              "          [246, 250, 245],\n",
              "          ...,\n",
              "          [247, 247, 247],\n",
              "          [247, 247, 247],\n",
              "          [247, 247, 247]],\n",
              "  \n",
              "         [[246, 248, 248],\n",
              "          [244, 248, 243],\n",
              "          [246, 250, 245],\n",
              "          ...,\n",
              "          [247, 247, 247],\n",
              "          [247, 247, 247],\n",
              "          [247, 247, 247]],\n",
              "  \n",
              "         [[246, 248, 248],\n",
              "          [244, 248, 243],\n",
              "          [246, 250, 245],\n",
              "          ...,\n",
              "          [247, 247, 247],\n",
              "          [247, 247, 247],\n",
              "          [247, 247, 247]],\n",
              "  \n",
              "         ...,\n",
              "  \n",
              "         [[245, 247, 248],\n",
              "          [244, 246, 247],\n",
              "          [244, 246, 247],\n",
              "          ...,\n",
              "          [247, 247, 247],\n",
              "          [247, 247, 247],\n",
              "          [247, 247, 247]],\n",
              "  \n",
              "         [[245, 247, 248],\n",
              "          [244, 246, 247],\n",
              "          [244, 246, 247],\n",
              "          ...,\n",
              "          [247, 247, 247],\n",
              "          [247, 247, 247],\n",
              "          [247, 247, 247]],\n",
              "  \n",
              "         [[245, 247, 248],\n",
              "          [244, 246, 247],\n",
              "          [244, 246, 247],\n",
              "          ...,\n",
              "          [247, 247, 247],\n",
              "          [247, 247, 247],\n",
              "          [247, 247, 247]]], dtype=uint8),\n",
              "  array([[[158, 149, 140],\n",
              "          [255, 254, 245],\n",
              "          [255, 255, 251],\n",
              "          ...,\n",
              "          [253, 255, 255],\n",
              "          [253, 255, 255],\n",
              "          [253, 255, 255]],\n",
              "  \n",
              "         [[158, 149, 140],\n",
              "          [255, 254, 245],\n",
              "          [255, 255, 251],\n",
              "          ...,\n",
              "          [253, 255, 255],\n",
              "          [253, 255, 255],\n",
              "          [253, 255, 255]],\n",
              "  \n",
              "         [[158, 149, 140],\n",
              "          [255, 254, 245],\n",
              "          [255, 255, 251],\n",
              "          ...,\n",
              "          [253, 255, 255],\n",
              "          [253, 255, 255],\n",
              "          [253, 255, 255]],\n",
              "  \n",
              "         ...,\n",
              "  \n",
              "         [[154, 145, 136],\n",
              "          [255, 249, 240],\n",
              "          [255, 247, 243],\n",
              "          ...,\n",
              "          [146, 148, 149],\n",
              "          [146, 148, 149],\n",
              "          [146, 148, 149]],\n",
              "  \n",
              "         [[154, 145, 136],\n",
              "          [255, 249, 240],\n",
              "          [255, 247, 243],\n",
              "          ...,\n",
              "          [146, 148, 149],\n",
              "          [146, 148, 149],\n",
              "          [146, 148, 149]],\n",
              "  \n",
              "         [[154, 145, 136],\n",
              "          [255, 249, 240],\n",
              "          [255, 247, 243],\n",
              "          ...,\n",
              "          [146, 148, 149],\n",
              "          [146, 148, 149],\n",
              "          [146, 148, 149]]], dtype=uint8)],\n",
              " [[28, 688, 1233, 106], [8, 225, 1417, 297], [0, 100, 1592, 294]],\n",
              " ['extracted_tables\\\\image_8.png',\n",
              "  'extracted_tables\\\\image_9.png',\n",
              "  'extracted_tables\\\\image_10.png'])"
            ]
          },
          "execution_count": 20,
          "metadata": {},
          "output_type": "execute_result"
        }
      ],
      "source": [
        "document_img = cv2.imread(\"..\\screenshot\\screenshot0 (4).jpg\")\n",
        "table_detection.make_prediction(document_img, predictor,show_result=True)\n"
      ]
    },
    {
      "cell_type": "code",
      "execution_count": 17,
      "metadata": {},
      "outputs": [],
      "source": [
        "document_img = cv2.imread(\"..\\screenshot\\screenshot0 (2).jpg\")\n",
        "# table_detection.make_prediction(document_img, predictor,show_result=True)\n"
      ]
    },
    {
      "cell_type": "code",
      "execution_count": 18,
      "metadata": {
        "colab": {
          "base_uri": "https://localhost:8080/",
          "height": 532
        },
        "id": "goa0nEKiEvip",
        "outputId": "b21da8da-0f4f-4011-c56b-1f82cc92c1da"
      },
      "outputs": [
        {
          "name": "stderr",
          "output_type": "stream",
          "text": [
            "C:\\Users\\shyam\\OneDrive\\Documents\\deeplearning\\deep_learn\\mindful_ss_extraction\\ssenv\\lib\\site-packages\\torch\\functional.py:504: UserWarning: torch.meshgrid: in an upcoming release, it will be required to pass the indexing argument. (Triggered internally at C:\\actions-runner\\_work\\pytorch\\pytorch\\builder\\windows\\pytorch\\aten\\src\\ATen\\native\\TensorShape.cpp:3484.)\n",
            "  return _VF.meshgrid(tensors, **kwargs)  # type: ignore[attr-defined]\n"
          ]
        },
        {
          "name": "stdout",
          "output_type": "stream",
          "text": [
            "Image saved as extracted_tables\\image_0.png\n",
            "Image saved as extracted_tables\\image_1.png\n"
          ]
        }
      ],
      "source": [
        "_ ,table_list, table_coords = table_detection.make_prediction(document_img, predictor)"
      ]
    },
    {
      "cell_type": "code",
      "execution_count": 20,
      "metadata": {},
      "outputs": [
        {
          "data": {
            "text/plain": [
              "[[30, 338, 1236, 276], [8, 264, 1482, 480]]"
            ]
          },
          "execution_count": 20,
          "metadata": {},
          "output_type": "execute_result"
        }
      ],
      "source": [
        "table_list"
      ]
    },
    {
      "cell_type": "markdown",
      "metadata": {
        "id": "HeGQWPR3KDcf"
      },
      "source": [
        "# Table Structure Recognition Partially Bordered Tables\n",
        "# with Color Invariance Pre-Processing"
      ]
    },
    {
      "cell_type": "code",
      "execution_count": 27,
      "metadata": {
        "colab": {
          "base_uri": "https://localhost:8080/",
          "height": 1000
        },
        "id": "HVVvmfij9vDA",
        "outputId": "49cffef0-cbc8-49e4-c9d6-a0d56e3f587c"
      },
      "outputs": [
        {
          "ename": "error",
          "evalue": "OpenCV(4.8.0) :-1: error: (-5:Bad argument) in function 'cvtColor'\n> Overload resolution failed:\n>  - src is not a numpy array, neither a scalar\n>  - Expected Ptr<cv::UMat> for argument 'src'\n",
          "output_type": "error",
          "traceback": [
            "\u001b[1;31m---------------------------------------------------------------------------\u001b[0m",
            "\u001b[1;31merror\u001b[0m                                     Traceback (most recent call last)",
            "\u001b[1;32mc:\\Users\\shyam\\OneDrive\\Documents\\deeplearning\\deep_learn\\mindful_ss_extraction\\main\\Table_Recognition.ipynb Cell 22\u001b[0m line \u001b[0;36m4\n\u001b[0;32m      <a href='vscode-notebook-cell:/c%3A/Users/shyam/OneDrive/Documents/deeplearning/deep_learn/mindful_ss_extraction/main/Table_Recognition.ipynb#X26sZmlsZQ%3D%3D?line=0'>1</a>\u001b[0m list_table_boxes \u001b[39m=\u001b[39m []\n\u001b[0;32m      <a href='vscode-notebook-cell:/c%3A/Users/shyam/OneDrive/Documents/deeplearning/deep_learn/mindful_ss_extraction/main/Table_Recognition.ipynb#X26sZmlsZQ%3D%3D?line=2'>3</a>\u001b[0m \u001b[39mfor\u001b[39;00m table \u001b[39min\u001b[39;00m table_list:\n\u001b[1;32m----> <a href='vscode-notebook-cell:/c%3A/Users/shyam/OneDrive/Documents/deeplearning/deep_learn/mindful_ss_extraction/main/Table_Recognition.ipynb#X26sZmlsZQ%3D%3D?line=3'>4</a>\u001b[0m     finalboxes, output_img \u001b[39m=\u001b[39m tsra\u001b[39m.\u001b[39;49mrecognize_structure(table)\n\u001b[0;32m      <a href='vscode-notebook-cell:/c%3A/Users/shyam/OneDrive/Documents/deeplearning/deep_learn/mindful_ss_extraction/main/Table_Recognition.ipynb#X26sZmlsZQ%3D%3D?line=4'>5</a>\u001b[0m     list_table_boxes\u001b[39m.\u001b[39mappend(finalboxes)\n",
            "File \u001b[1;32mc:\\Users\\shyam\\OneDrive\\Documents\\deeplearning\\deep_learn\\mindful_ss_extraction\\main\\google_colab\\table_structure_recognition_all.py:22\u001b[0m, in \u001b[0;36mrecognize_structure\u001b[1;34m(img)\u001b[0m\n\u001b[0;32m     18\u001b[0m \u001b[39mdef\u001b[39;00m \u001b[39mrecognize_structure\u001b[39m(img):\n\u001b[0;32m     19\u001b[0m     \u001b[39m#tess.pytesseract.tesseract_cmd = 'C:/Program Files/Tesseract-OCR/tesseract.exe'\u001b[39;00m\n\u001b[0;32m     20\u001b[0m \n\u001b[0;32m     21\u001b[0m     \u001b[39m#print(img.shape)\u001b[39;00m\n\u001b[1;32m---> 22\u001b[0m     img \u001b[39m=\u001b[39m cv2\u001b[39m.\u001b[39;49mcvtColor(img, cv2\u001b[39m.\u001b[39;49mCOLOR_BGR2GRAY)\n\u001b[0;32m     23\u001b[0m     img_height, img_width \u001b[39m=\u001b[39m img\u001b[39m.\u001b[39mshape\n\u001b[0;32m     25\u001b[0m     \u001b[39m#print(\"img_height\", img_height, \"img_width\", img_width)\u001b[39;00m\n",
            "\u001b[1;31merror\u001b[0m: OpenCV(4.8.0) :-1: error: (-5:Bad argument) in function 'cvtColor'\n> Overload resolution failed:\n>  - src is not a numpy array, neither a scalar\n>  - Expected Ptr<cv::UMat> for argument 'src'\n"
          ]
        }
      ],
      "source": [
        "list_table_boxes = []\n",
        "\n",
        "for table in table_list:\n",
        "    finalboxes, output_img = tsra.recognize_structure(table)\n",
        "    list_table_boxes.append(finalboxes)"
      ]
    },
    {
      "cell_type": "markdown",
      "metadata": {
        "id": "ScsmUjcYKq5e"
      },
      "source": [
        "# XML Output "
      ]
    },
    {
      "cell_type": "code",
      "execution_count": null,
      "metadata": {
        "id": "lXYYsuZ0-V-0"
      },
      "outputs": [],
      "source": [
        "txml.output_to_xml(table_coords, list_table_boxes)"
      ]
    },
    {
      "cell_type": "markdown",
      "metadata": {
        "id": "I7fbWUENK78_"
      },
      "source": [
        "#Table Structure Recognition Bordered Tables"
      ]
    },
    {
      "cell_type": "code",
      "execution_count": 14,
      "metadata": {
        "colab": {
          "base_uri": "https://localhost:8080/",
          "height": 1000
        },
        "id": "nv-8UTIm3iHy",
        "outputId": "0b71270b-9d7c-4e88-d1fc-ea44e5fa53cf"
      },
      "outputs": [
        {
          "ename": "error",
          "evalue": "OpenCV(4.8.0) D:\\a\\opencv-python\\opencv-python\\opencv\\modules\\imgproc\\src\\color.cpp:182: error: (-215:Assertion failed) !_src.empty() in function 'cv::cvtColor'\n",
          "output_type": "error",
          "traceback": [
            "\u001b[1;31m---------------------------------------------------------------------------\u001b[0m",
            "\u001b[1;31merror\u001b[0m                                     Traceback (most recent call last)",
            "\u001b[1;32mc:\\Users\\shyam\\OneDrive\\Documents\\deeplearning\\deep_learn\\mindful\\main\\Table_Recognition.ipynb Cell 25\u001b[0m line \u001b[0;36m7\n\u001b[0;32m      <a href='vscode-notebook-cell:/c%3A/Users/shyam/OneDrive/Documents/deeplearning/deep_learn/mindful/main/Table_Recognition.ipynb#X33sZmlsZQ%3D%3D?line=3'>4</a>\u001b[0m table_list \u001b[39m=\u001b[39m [bordered_table]\n\u001b[0;32m      <a href='vscode-notebook-cell:/c%3A/Users/shyam/OneDrive/Documents/deeplearning/deep_learn/mindful/main/Table_Recognition.ipynb#X33sZmlsZQ%3D%3D?line=5'>6</a>\u001b[0m \u001b[39mfor\u001b[39;00m table \u001b[39min\u001b[39;00m table_list:\n\u001b[1;32m----> <a href='vscode-notebook-cell:/c%3A/Users/shyam/OneDrive/Documents/deeplearning/deep_learn/mindful/main/Table_Recognition.ipynb#X33sZmlsZQ%3D%3D?line=6'>7</a>\u001b[0m     finalboxes, output_img \u001b[39m=\u001b[39m tsrl\u001b[39m.\u001b[39;49mrecognize_structure(table)\n\u001b[0;32m      <a href='vscode-notebook-cell:/c%3A/Users/shyam/OneDrive/Documents/deeplearning/deep_learn/mindful/main/Table_Recognition.ipynb#X33sZmlsZQ%3D%3D?line=7'>8</a>\u001b[0m     list_table_boxes\u001b[39m.\u001b[39mappend(finalboxes)\n",
            "File \u001b[1;32mc:\\Users\\shyam\\OneDrive\\Documents\\deeplearning\\deep_learn\\mindful\\main\\google_colab\\table_structure_recognition_lines.py:20\u001b[0m, in \u001b[0;36mrecognize_structure\u001b[1;34m(img)\u001b[0m\n\u001b[0;32m     16\u001b[0m \u001b[39mdef\u001b[39;00m \u001b[39mrecognize_structure\u001b[39m(img):\n\u001b[0;32m     17\u001b[0m     \u001b[39m#tess.pytesseract.tesseract_cmd = 'C:/Program Files/Tesseract-OCR/tesseract.exe'\u001b[39;00m\n\u001b[0;32m     18\u001b[0m \n\u001b[0;32m     19\u001b[0m     \u001b[39m#print(img.shape)\u001b[39;00m\n\u001b[1;32m---> 20\u001b[0m     img \u001b[39m=\u001b[39m cv2\u001b[39m.\u001b[39;49mcvtColor(img, cv2\u001b[39m.\u001b[39;49mCOLOR_BGR2GRAY)\n\u001b[0;32m     21\u001b[0m     img_height, img_width \u001b[39m=\u001b[39m img\u001b[39m.\u001b[39mshape\n\u001b[0;32m     23\u001b[0m     \u001b[39m#print(\"img_height\", img_height, \"img_width\", img_width)\u001b[39;00m\n",
            "\u001b[1;31merror\u001b[0m: OpenCV(4.8.0) D:\\a\\opencv-python\\opencv-python\\opencv\\modules\\imgproc\\src\\color.cpp:182: error: (-215:Assertion failed) !_src.empty() in function 'cv::cvtColor'\n"
          ]
        }
      ],
      "source": [
        "bordered_table = cv2.imread(\"/content/Multi_Type_TD_TSR/images/bordered_example.png\")\n",
        "list_table_boxes = []\n",
        "\n",
        "table_list = [bordered_table]\n",
        "\n",
        "for table in table_list:\n",
        "    finalboxes, output_img = tsrl.recognize_structure(table)\n",
        "    list_table_boxes.append(finalboxes)"
      ]
    },
    {
      "cell_type": "markdown",
      "metadata": {
        "id": "6AkMaplrMAv2"
      },
      "source": [
        "# Table Structure Recognition Unbordered Tables"
      ]
    },
    {
      "cell_type": "code",
      "execution_count": 13,
      "metadata": {
        "colab": {
          "base_uri": "https://localhost:8080/",
          "height": 1000
        },
        "id": "ie9J843K4xPR",
        "outputId": "ad295811-833b-44e6-f865-95f66c07d304"
      },
      "outputs": [
        {
          "ename": "error",
          "evalue": "OpenCV(4.8.0) D:\\a\\opencv-python\\opencv-python\\opencv\\modules\\imgproc\\src\\color.cpp:182: error: (-215:Assertion failed) !_src.empty() in function 'cv::cvtColor'\n",
          "output_type": "error",
          "traceback": [
            "\u001b[1;31m---------------------------------------------------------------------------\u001b[0m",
            "\u001b[1;31merror\u001b[0m                                     Traceback (most recent call last)",
            "\u001b[1;32mc:\\Users\\shyam\\OneDrive\\Documents\\deeplearning\\deep_learn\\mindful\\main\\Table_Recognition.ipynb Cell 27\u001b[0m line \u001b[0;36m7\n\u001b[0;32m      <a href='vscode-notebook-cell:/c%3A/Users/shyam/OneDrive/Documents/deeplearning/deep_learn/mindful/main/Table_Recognition.ipynb#X35sZmlsZQ%3D%3D?line=3'>4</a>\u001b[0m table_list \u001b[39m=\u001b[39m [unbordered_table]\n\u001b[0;32m      <a href='vscode-notebook-cell:/c%3A/Users/shyam/OneDrive/Documents/deeplearning/deep_learn/mindful/main/Table_Recognition.ipynb#X35sZmlsZQ%3D%3D?line=5'>6</a>\u001b[0m \u001b[39mfor\u001b[39;00m table \u001b[39min\u001b[39;00m table_list:\n\u001b[1;32m----> <a href='vscode-notebook-cell:/c%3A/Users/shyam/OneDrive/Documents/deeplearning/deep_learn/mindful/main/Table_Recognition.ipynb#X35sZmlsZQ%3D%3D?line=6'>7</a>\u001b[0m     finalboxes, output_img \u001b[39m=\u001b[39m tsrwol\u001b[39m.\u001b[39;49mrecognize_structure(table)\n\u001b[0;32m      <a href='vscode-notebook-cell:/c%3A/Users/shyam/OneDrive/Documents/deeplearning/deep_learn/mindful/main/Table_Recognition.ipynb#X35sZmlsZQ%3D%3D?line=7'>8</a>\u001b[0m     list_table_boxes\u001b[39m.\u001b[39mappend(finalboxes)\n",
            "File \u001b[1;32mc:\\Users\\shyam\\OneDrive\\Documents\\deeplearning\\deep_learn\\mindful\\main\\google_colab\\table_structure_recognition_wol.py:21\u001b[0m, in \u001b[0;36mrecognize_structure\u001b[1;34m(img)\u001b[0m\n\u001b[0;32m     17\u001b[0m \u001b[39mdef\u001b[39;00m \u001b[39mrecognize_structure\u001b[39m(img):\n\u001b[0;32m     18\u001b[0m     \u001b[39m#tess.pytesseract.tesseract_cmd = 'C:/Program Files/Tesseract-OCR/tesseract.exe'\u001b[39;00m\n\u001b[0;32m     19\u001b[0m \n\u001b[0;32m     20\u001b[0m     \u001b[39m#print(img.shape)\u001b[39;00m\n\u001b[1;32m---> 21\u001b[0m     img \u001b[39m=\u001b[39m cv2\u001b[39m.\u001b[39;49mcvtColor(img, cv2\u001b[39m.\u001b[39;49mCOLOR_BGR2GRAY)\n\u001b[0;32m     22\u001b[0m     img_height, img_width \u001b[39m=\u001b[39m img\u001b[39m.\u001b[39mshape\n\u001b[0;32m     24\u001b[0m     \u001b[39m#print(\"img_height\", img_height, \"img_width\", img_width)\u001b[39;00m\n",
            "\u001b[1;31merror\u001b[0m: OpenCV(4.8.0) D:\\a\\opencv-python\\opencv-python\\opencv\\modules\\imgproc\\src\\color.cpp:182: error: (-215:Assertion failed) !_src.empty() in function 'cv::cvtColor'\n"
          ]
        }
      ],
      "source": [
        "unbordered_table = cv2.imread(\"/content/Multi_Type_TD_TSR/images/unbordered_example.jpg\")\n",
        "list_table_boxes = []\n",
        "\n",
        "table_list = [unbordered_table]\n",
        "\n",
        "for table in table_list:\n",
        "    finalboxes, output_img = tsrwol.recognize_structure(table)\n",
        "    list_table_boxes.append(finalboxes)"
      ]
    },
    {
      "cell_type": "markdown",
      "metadata": {
        "id": "JuQsqAPsPSH1"
      },
      "source": [
        "# Table Structure Recognition Partially Bordered Tables"
      ]
    },
    {
      "cell_type": "code",
      "execution_count": 32,
      "metadata": {
        "colab": {
          "base_uri": "https://localhost:8080/",
          "height": 1000
        },
        "id": "y7Lk83F88NHW",
        "outputId": "f0234900-1dbb-48b7-f6d8-7867826617a7"
      },
      "outputs": [
        {
          "name": "stdout",
          "output_type": "stream",
          "text": [
            "Image saved as extracted_tables\\image_8.png\n",
            "Image saved as extracted_tables\\image_9.png\n"
          ]
        },
        {
          "ename": "error",
          "evalue": "OpenCV(4.8.0) :-1: error: (-5:Bad argument) in function 'imshow'\n> Overload resolution failed:\n>  - imshow() missing required argument 'mat' (pos 2)\n>  - imshow() missing required argument 'mat' (pos 2)\n>  - imshow() missing required argument 'mat' (pos 2)\n",
          "output_type": "error",
          "traceback": [
            "\u001b[1;31m---------------------------------------------------------------------------\u001b[0m",
            "\u001b[1;31merror\u001b[0m                                     Traceback (most recent call last)",
            "\u001b[1;32mc:\\Users\\shyam\\OneDrive\\Documents\\deeplearning\\deep_learn\\mindful_ss_extraction\\main\\Table_Recognition.ipynb Cell 30\u001b[0m line \u001b[0;36m6\n\u001b[0;32m      <a href='vscode-notebook-cell:/c%3A/Users/shyam/OneDrive/Documents/deeplearning/deep_learn/mindful_ss_extraction/main/Table_Recognition.ipynb#X40sZmlsZQ%3D%3D?line=3'>4</a>\u001b[0m list_table_boxes \u001b[39m=\u001b[39m []\n\u001b[0;32m      <a href='vscode-notebook-cell:/c%3A/Users/shyam/OneDrive/Documents/deeplearning/deep_learn/mindful_ss_extraction/main/Table_Recognition.ipynb#X40sZmlsZQ%3D%3D?line=4'>5</a>\u001b[0m \u001b[39mfor\u001b[39;00m table \u001b[39min\u001b[39;00m table_list:\n\u001b[1;32m----> <a href='vscode-notebook-cell:/c%3A/Users/shyam/OneDrive/Documents/deeplearning/deep_learn/mindful_ss_extraction/main/Table_Recognition.ipynb#X40sZmlsZQ%3D%3D?line=5'>6</a>\u001b[0m     finalboxes, output_img \u001b[39m=\u001b[39m tsrlwol\u001b[39m.\u001b[39;49mrecognize_structure(table)\n\u001b[0;32m      <a href='vscode-notebook-cell:/c%3A/Users/shyam/OneDrive/Documents/deeplearning/deep_learn/mindful_ss_extraction/main/Table_Recognition.ipynb#X40sZmlsZQ%3D%3D?line=6'>7</a>\u001b[0m     list_table_boxes\u001b[39m.\u001b[39mappend(finalboxes)\n",
            "File \u001b[1;32mc:\\Users\\shyam\\OneDrive\\Documents\\deeplearning\\deep_learn\\mindful_ss_extraction\\main\\google_colab\\table_structure_recognition_lines_wol.py:26\u001b[0m, in \u001b[0;36mrecognize_structure\u001b[1;34m(img)\u001b[0m\n\u001b[0;32m     22\u001b[0m img_height, img_width \u001b[39m=\u001b[39m img\u001b[39m.\u001b[39mshape\n\u001b[0;32m     24\u001b[0m \u001b[39m#print(\"img_height\", img_height, \"img_width\", img_width)\u001b[39;00m\n\u001b[1;32m---> 26\u001b[0m cv2\u001b[39m.\u001b[39;49mimshow(img)\n\u001b[0;32m     28\u001b[0m \u001b[39m# thresholding the image to a binary image\u001b[39;00m\n\u001b[0;32m     29\u001b[0m \u001b[39m#thresh, img_bin = cv2.threshold(img, 127, 255, cv2.THRESH_BINARY | cv2.THRESH_OTSU)\u001b[39;00m\n\u001b[0;32m     30\u001b[0m \u001b[39m#img_bin = cv2.adaptiveThreshold(img, 255, cv2.ADAPTIVE_THRESH_GAUSSIAN_C, cv2.THRESH_BINARY,5,5)\u001b[39;00m\n\u001b[0;32m     31\u001b[0m thresh, img_bin \u001b[39m=\u001b[39m cv2\u001b[39m.\u001b[39mthreshold(img, \u001b[39m180\u001b[39m, \u001b[39m255\u001b[39m, cv2\u001b[39m.\u001b[39mTHRESH_BINARY)\n",
            "\u001b[1;31merror\u001b[0m: OpenCV(4.8.0) :-1: error: (-5:Bad argument) in function 'imshow'\n> Overload resolution failed:\n>  - imshow() missing required argument 'mat' (pos 2)\n>  - imshow() missing required argument 'mat' (pos 2)\n>  - imshow() missing required argument 'mat' (pos 2)\n"
          ]
        }
      ],
      "source": [
        "document_example = cv2.imread(\"../screenshot/screenshot0 (2).jpg\")\n",
        "\n",
        "table_list, table_coords,_ = table_detection.make_prediction(document_example, predictor)\n",
        "list_table_boxes = []\n",
        "for table in table_list:\n",
        "    finalboxes, output_img = tsrlwol.recognize_structure(table)\n",
        "    list_table_boxes.append(finalboxes)"
      ]
    },
    {
      "cell_type": "code",
      "execution_count": null,
      "metadata": {},
      "outputs": [
        {
          "name": "stdout",
          "output_type": "stream",
          "text": [
            "Image saved as extracted_tables\\image_8.png\n",
            "Image saved as extracted_tables\\image_9.png\n"
          ]
        },
        {
          "ename": "error",
          "evalue": "OpenCV(4.8.0) :-1: error: (-5:Bad argument) in function 'imshow'\n> Overload resolution failed:\n>  - imshow() missing required argument 'mat' (pos 2)\n>  - imshow() missing required argument 'mat' (pos 2)\n>  - imshow() missing required argument 'mat' (pos 2)\n",
          "output_type": "error",
          "traceback": [
            "\u001b[1;31m---------------------------------------------------------------------------\u001b[0m\n",
            "\u001b[1;31merror\u001b[0m                                     Traceback (most recent call last)\n",
            "\u001b[1;32mc:\\Users\\shyam\\OneDrive\\Documents\\deeplearning\\deep_learn\\mindful_ss_extraction\\main\\Table_Recognition.ipynb Cell 30\u001b[0m line \u001b[0;36m6\n",
            "\u001b[0;32m      <a href='vscode-notebook-cell:/c%3A/Users/shyam/OneDrive/Documents/deeplearning/deep_learn/mindful_ss_extraction/main/Table_Recognition.ipynb#X40sZmlsZQ%3D%3D?line=3'>4</a>\u001b[0m list_table_boxes \u001b[39m=\u001b[39m []\n",
            "\u001b[0;32m      <a href='vscode-notebook-cell:/c%3A/Users/shyam/OneDrive/Documents/deeplearning/deep_learn/mindful_ss_extraction/main/Table_Recognition.ipynb#X40sZmlsZQ%3D%3D?line=4'>5</a>\u001b[0m \u001b[39mfor\u001b[39;00m table \u001b[39min\u001b[39;00m table_list:\n",
            "\u001b[1;32m----> <a href='vscode-notebook-cell:/c%3A/Users/shyam/OneDrive/Documents/deeplearning/deep_learn/mindful_ss_extraction/main/Table_Recognition.ipynb#X40sZmlsZQ%3D%3D?line=5'>6</a>\u001b[0m     finalboxes, output_img \u001b[39m=\u001b[39m tsrlwol\u001b[39m.\u001b[39;49mrecognize_structure(table)\n",
            "\u001b[0;32m      <a href='vscode-notebook-cell:/c%3A/Users/shyam/OneDrive/Documents/deeplearning/deep_learn/mindful_ss_extraction/main/Table_Recognition.ipynb#X40sZmlsZQ%3D%3D?line=6'>7</a>\u001b[0m     list_table_boxes\u001b[39m.\u001b[39mappend(finalboxes)\n",
            "\n",
            "File \u001b[1;32mc:\\Users\\shyam\\OneDrive\\Documents\\deeplearning\\deep_learn\\mindful_ss_extraction\\main\\google_colab\\table_structure_recognition_lines_wol.py:26\u001b[0m, in \u001b[0;36mrecognize_structure\u001b[1;34m(img)\u001b[0m\n",
            "\u001b[0;32m     22\u001b[0m img_height, img_width \u001b[39m=\u001b[39m img\u001b[39m.\u001b[39mshape\n",
            "\u001b[0;32m     24\u001b[0m \u001b[39m#print(\"img_height\", img_height, \"img_width\", img_width)\u001b[39;00m\n",
            "\u001b[1;32m---> 26\u001b[0m cv2\u001b[39m.\u001b[39;49mimshow(img)\n",
            "\u001b[0;32m     28\u001b[0m \u001b[39m# thresholding the image to a binary image\u001b[39;00m\n",
            "\u001b[0;32m     29\u001b[0m \u001b[39m#thresh, img_bin = cv2.threshold(img, 127, 255, cv2.THRESH_BINARY | cv2.THRESH_OTSU)\u001b[39;00m\n",
            "\u001b[0;32m     30\u001b[0m \u001b[39m#img_bin = cv2.adaptiveThreshold(img, 255, cv2.ADAPTIVE_THRESH_GAUSSIAN_C, cv2.THRESH_BINARY,5,5)\u001b[39;00m\n",
            "\u001b[0;32m     31\u001b[0m thresh, img_bin \u001b[39m=\u001b[39m cv2\u001b[39m.\u001b[39mthreshold(img, \u001b[39m180\u001b[39m, \u001b[39m255\u001b[39m, cv2\u001b[39m.\u001b[39mTHRESH_BINARY)\n",
            "\n",
            "\u001b[1;31merror\u001b[0m: OpenCV(4.8.0) :-1: error: (-5:Bad argument) in function 'imshow'\n",
            "> Overload resolution failed:\n",
            ">  - imshow() missing required argument 'mat' (pos 2)\n",
            ">  - imshow() missing required argument 'mat' (pos 2)\n",
            ">  - imshow() missing required argument 'mat' (pos 2)\n"
          ]
        }
      ],
      "source": [
        "document_example = cv2.imread(\"../screenshot/screenshot0 (2).jpg\")\n",
        "\n",
        "table_list, table_coords,_ = table_detection.make_prediction(document_example, predictor)\n",
        "list_table_boxes = []\n",
        "for table in table_list:\n",
        "    finalboxes, output_img = tsrlwol.recognize_structure(table)\n",
        "    list_table_boxes.append(finalboxes)"
      ]
    },
    {
      "cell_type": "markdown",
      "metadata": {
        "id": "mqIt6tTgH3Bq"
      },
      "source": [
        "# Additional Feature: OCR with PyTesserect (Output in CSV)"
      ]
    },
    {
      "cell_type": "code",
      "execution_count": 15,
      "metadata": {
        "colab": {
          "base_uri": "https://localhost:8080/"
        },
        "id": "NP4gRIsiH2Gh",
        "outputId": "d399fb37-b606-4186-ebc2-6b8cee30b9d3"
      },
      "outputs": [
        {
          "ename": "NameError",
          "evalue": "name 'output_img' is not defined",
          "output_type": "error",
          "traceback": [
            "\u001b[1;31m---------------------------------------------------------------------------\u001b[0m",
            "\u001b[1;31mNameError\u001b[0m                                 Traceback (most recent call last)",
            "\u001b[1;32mc:\\Users\\shyam\\OneDrive\\Documents\\deeplearning\\deep_learn\\mindful\\main\\Table_Recognition.ipynb Cell 31\u001b[0m line \u001b[0;36m1\n\u001b[1;32m----> <a href='vscode-notebook-cell:/c%3A/Users/shyam/OneDrive/Documents/deeplearning/deep_learn/mindful/main/Table_Recognition.ipynb#X42sZmlsZQ%3D%3D?line=0'>1</a>\u001b[0m tocr\u001b[39m.\u001b[39moutput_to_csv(list_table_boxes, output_img)\n",
            "\u001b[1;31mNameError\u001b[0m: name 'output_img' is not defined"
          ]
        }
      ],
      "source": [
        "tocr.output_to_csv(list_table_boxes, output_img)"
      ]
    },
    {
      "cell_type": "code",
      "execution_count": null,
      "metadata": {
        "id": "amIZ1G1sJRoM"
      },
      "outputs": [],
      "source": []
    }
  ],
  "metadata": {
    "accelerator": "GPU",
    "colab": {
      "collapsed_sections": [
        "1fYeYVp2klFt",
        "pQUnnsinlQVT",
        "NzywSWN0mPqt",
        "rAcoWOJhuy9f",
        "gfC4Tc0qyY-k",
        "74mow_zjx9PM",
        "ZULY2YyDJoYH",
        "HeGQWPR3KDcf",
        "ScsmUjcYKq5e",
        "I7fbWUENK78_",
        "6AkMaplrMAv2",
        "JuQsqAPsPSH1"
      ],
      "name": "Table_Recognition.ipynb",
      "provenance": [],
      "toc_visible": true
    },
    "kernelspec": {
      "display_name": "Python 3 (ipykernel)",
      "language": "python",
      "name": "python3"
    },
    "language_info": {
      "codemirror_mode": {
        "name": "ipython",
        "version": 3
      },
      "file_extension": ".py",
      "mimetype": "text/x-python",
      "name": "python",
      "nbconvert_exporter": "python",
      "pygments_lexer": "ipython3",
      "version": "3.8.10"
    }
  },
  "nbformat": 4,
  "nbformat_minor": 0
}
